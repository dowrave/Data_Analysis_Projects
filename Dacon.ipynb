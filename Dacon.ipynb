{
  "nbformat": 4,
  "nbformat_minor": 0,
  "metadata": {
    "colab": {
      "private_outputs": true,
      "provenance": [],
      "collapsed_sections": [],
      "authorship_tag": "ABX9TyPjL+jX9SLfNn8w/77yVjDA",
      "include_colab_link": true
    },
    "kernelspec": {
      "name": "python3",
      "display_name": "Python 3"
    },
    "language_info": {
      "name": "python"
    }
  },
  "cells": [
    {
      "cell_type": "markdown",
      "metadata": {
        "id": "view-in-github",
        "colab_type": "text"
      },
      "source": [
        "<a href=\"https://colab.research.google.com/github/dowrave/Data_Analysis_Projects/blob/main/Dacon.ipynb\" target=\"_parent\"><img src=\"https://colab.research.google.com/assets/colab-badge.svg\" alt=\"Open In Colab\"/></a>"
      ]
    },
    {
      "cell_type": "code",
      "execution_count": null,
      "metadata": {
        "id": "eHveP5s3HXEr"
      },
      "outputs": [],
      "source": [
        "from google.colab import drive\n",
        "drive.mount('/content/drive')"
      ]
    },
    {
      "cell_type": "code",
      "source": [
        "import pandas as pd\n",
        "from pandas import CategoricalDtype\n",
        "import numpy as np \n",
        "import matplotlib.pyplot as plt\n",
        "import seaborn as sns\n",
        "from sklearn.preprocessing import LabelEncoder\n"
      ],
      "metadata": {
        "id": "lPH0x2y9H2E2"
      },
      "execution_count": null,
      "outputs": []
    },
    {
      "cell_type": "code",
      "source": [
        "train = pd.read_csv('/content/drive/MyDrive/data/train.csv')\n",
        "test = pd.read_csv('/content/drive/MyDrive/data/test.csv')"
      ],
      "metadata": {
        "id": "dxvSBFKAIbWd"
      },
      "execution_count": null,
      "outputs": []
    },
    {
      "cell_type": "code",
      "source": [
        "train.head(2)"
      ],
      "metadata": {
        "id": "9xYQj5fcItnq"
      },
      "execution_count": null,
      "outputs": []
    },
    {
      "cell_type": "code",
      "source": [
        "train.info()"
      ],
      "metadata": {
        "id": "b__-Mh-hIuj0"
      },
      "execution_count": null,
      "outputs": []
    },
    {
      "cell_type": "markdown",
      "source": [
        "# 데이터 탐색"
      ],
      "metadata": {
        "id": "fx0YcbVC30KL"
      }
    },
    {
      "cell_type": "markdown",
      "source": [
        "### 질적 데이터"
      ],
      "metadata": {
        "id": "w6FPe1IoRZiW"
      }
    },
    {
      "cell_type": "markdown",
      "source": [
        "- 전체 데이터 중 유망주의 비율 : $0.361$"
      ],
      "metadata": {
        "id": "jW4o93VPRjgm"
      }
    },
    {
      "cell_type": "code",
      "source": [
        "train['Prospect'].sum() / train['Prospect'].count()"
      ],
      "metadata": {
        "id": "osqZY-jfRnIR"
      },
      "execution_count": null,
      "outputs": []
    },
    {
      "cell_type": "markdown",
      "source": [
        "#### 1. `PreferredFoot, WorkRate`\n",
        "선요약 )  \n",
        "- 특히 `WorkRate`의 경우는 높을수록 좋을 것이라는 생각을 하고 접근했지만, 가장 좋은 수치는 `Medium, Medium`에서 나왔음\n",
        "- `PreferredFoot`의 경우 또한 `Left`에서 희소성이 있을 거라 생각하고 접근했지만, 그렇지는 않았음\n",
        "- 둘 다 특별히 고칠 요소는 없는 것으로 보임\n"
      ],
      "metadata": {
        "id": "eDxvFMVgCfX2"
      }
    },
    {
      "cell_type": "code",
      "source": [
        "fig, ax = plt.subplots(1, 2, figsize = (10, 5))\n",
        "\n",
        "fig.suptitle(\"Preferred Foot : Total vs Prospect\")\n",
        "(train['PreferredFoot'].value_counts()\n",
        "                        .to_frame()\n",
        "                        .T\n",
        "                        .plot(kind = 'bar', \n",
        "                              stacked = True, \n",
        "                              rot = 0,\n",
        "                              ax = ax[0])\n",
        "                        )\n",
        "ax[0].legend().set_visible(False)\n",
        "\n",
        "(train[train['Prospect'] == 1]['PreferredFoot'].value_counts()\n",
        "                                                .to_frame()\n",
        "                                                .T\n",
        "                                                .plot(kind = 'bar', \n",
        "                                                      stacked = True, \n",
        "                                                      rot = 0,\n",
        "                                                      ax = ax[1],\n",
        "))\n",
        "\n",
        "ax[1].set_ylim(ax[0].get_ylim())"
      ],
      "metadata": {
        "id": "jCBAihqxZZjZ"
      },
      "execution_count": null,
      "outputs": []
    },
    {
      "cell_type": "code",
      "source": [
        "# 각 발 전체 인원 중 유망주 비율\n",
        "print(train[(train['PreferredFoot'] == 'Left')\n",
        "      & (train['Prospect'] == 1)]['ID'].count() / train[train['PreferredFoot'] == 'Left']['ID'].count(),\n",
        "      train[(train['PreferredFoot'] == 'Right')\n",
        "      & (train['Prospect'] == 1)]['ID'].count() / train[train['PreferredFoot'] == 'Right']['ID'].count(),\n",
        ")\n",
        "# 전체 인원 중 각 발의 비율\n",
        "print(train[train['PreferredFoot'] == 'Left']['ID'].count() / train['ID'].count(),\n",
        "      train[train['PreferredFoot'] == 'Right']['ID'].count() / train['ID'].count(),\n",
        ")\n",
        "# 유망주 전체 인원 중 각 발의 비율\n",
        "print(train[(train['PreferredFoot'] == 'Left')\n",
        "      & (train['Prospect'] == 1)]['ID'].count() / train[train['Prospect'] == 1]['ID'].count(),\n",
        "      train[(train['PreferredFoot'] == 'Right')\n",
        "      & (train['Prospect'] == 1)]['ID'].count() / train[train['Prospect'] == 1]['ID'].count(),\n",
        ")"
      ],
      "metadata": {
        "id": "bSmb1PLma_UO"
      },
      "execution_count": null,
      "outputs": []
    },
    {
      "cell_type": "markdown",
      "source": [
        "1. 각 발에 대해 전체 인원 중 유망주 비율\n",
        "- 왼발 : $0.33$\n",
        "- 오른발 : $0.37$\n",
        "\n",
        "2. 전체 인원과 각 발의 비율\n",
        "- 왼발 : $0.24$\n",
        "- 오른발 : $0.75$\n",
        "\n",
        "3. 유망주 전체 인원과 각 발의 비율\n",
        "- 왼발 : $0.22$\n",
        "- 오른발 : $0.78$"
      ],
      "metadata": {
        "id": "9X--sPjqYi5j"
      }
    },
    {
      "cell_type": "code",
      "source": [
        "fig, ax = plt.subplots(2, 2, figsize = (10, 10))\n",
        "\n",
        "for i, val in enumerate(['AttackingWorkRate', 'DefensiveWorkRate']):\n",
        "  if i == 0:\n",
        "    color = np.array(sns.color_palette('OrRd'))[[1, 3, 5], :]\n",
        "  elif i == 1:\n",
        "    color = np.array(sns.color_palette('Blues'))[[1, 3, 5], :]\n",
        "  \n",
        "  (train[val].value_counts()[['Low', 'Medium', 'High']]\n",
        "                          .to_frame()\n",
        "                          .T\n",
        "                          .plot(kind = 'bar', \n",
        "                                stacked = True, \n",
        "                                rot = 0,\n",
        "                                ax = ax[i][0],\n",
        "                                color = color)\n",
        "                          )\n",
        "  ax[i][0].legend().set_visible(False)\n",
        "\n",
        "  (train[train['Prospect'] == 1][val].value_counts()[['Low', 'Medium', 'High']]\n",
        "                                                  .to_frame()\n",
        "                                                  .T\n",
        "                                                  .plot(kind = 'bar', \n",
        "                                                        stacked = True, \n",
        "                                                        rot = 0,\n",
        "                                                        ax = ax[i][1],\n",
        "                                                        color = color\n",
        "  ))\n",
        "\n",
        "  ax[i][1].set_ylim(ax[i][0].get_ylim())"
      ],
      "metadata": {
        "id": "_RHPIXCSZZl0"
      },
      "execution_count": null,
      "outputs": []
    },
    {
      "cell_type": "code",
      "source": [
        "# 위 사항은 수치적으로 보고 싶음 : WorkRate에는 총 9가지 유형이 있는데, 이에 따른 생존율을 비교해보자\n",
        "temp = (train[['ID', 'AttackingWorkRate', 'DefensiveWorkRate', 'Prospect']]\n",
        "                                                              .groupby(['AttackingWorkRate', 'DefensiveWorkRate', 'Prospect'])['ID']\n",
        "                                                              .count()\n",
        "                                                              .to_frame()\n",
        "                                                              .reset_index().rename(columns = {\"ID\" : 'counts'})\n",
        ")\n",
        "temp.head(2)"
      ],
      "metadata": {
        "id": "qFYNRGtOZZoI"
      },
      "execution_count": null,
      "outputs": []
    },
    {
      "cell_type": "code",
      "source": [
        "sns.catplot(data = temp, \n",
        "            x = 'AttackingWorkRate', \n",
        "            y = 'counts', \n",
        "            hue = 'DefensiveWorkRate', \n",
        "            col = 'Prospect', \n",
        "            kind = 'bar', \n",
        "            order = ['Low', 'Medium', 'High'], \n",
        "            hue_order = ['Low', 'Medium', 'High'],\n",
        "            ax = ax)\n",
        "plt.suptitle(\"ATT / DEF WorkRate and The Num of Prospect\", y = 1.05, fontsize = 15)\n",
        "plt.tight_layout()"
      ],
      "metadata": {
        "id": "_02WlcCVD-Ja"
      },
      "execution_count": null,
      "outputs": []
    },
    {
      "cell_type": "code",
      "source": [
        "temp['rates'] = temp['counts'] / temp.groupby(['AttackingWorkRate', 'DefensiveWorkRate'])['counts'].transform(\"sum\")\n",
        "temp_hm = temp[temp['Prospect'] == 1][:]\n",
        "temp_hm = temp_hm.pivot(index = 'AttackingWorkRate', columns = 'DefensiveWorkRate', values = 'rates').loc[['High', 'Medium', 'Low'], ['Low', 'Medium', 'High']]"
      ],
      "metadata": {
        "id": "6yz2UJUyFE2i"
      },
      "execution_count": null,
      "outputs": []
    },
    {
      "cell_type": "code",
      "source": [
        "plt.figure(figsize = (7, 7))\n",
        "sns.heatmap(data = temp_hm, annot = True, fmt = '.3f', cmap = 'Blues', vmin = 0, vmax = 1)\n",
        "plt.title(\"Att / Def WorkRate and Prospect Rate\")"
      ],
      "metadata": {
        "id": "wYaRxqgNJlse"
      },
      "execution_count": null,
      "outputs": []
    },
    {
      "cell_type": "markdown",
      "source": [
        "- `Low, Low`에 있는 요소는 샘플이 1개니까 크게 고려할 요소는 아님\n",
        "- 애초에 예상한 건 `오른쪽 위로 갈수록 활동량이 좋으니 Prospect 비율이 높을 것이다` 였는데, 그렇지는 않은 것으로 나타남"
      ],
      "metadata": {
        "id": "NLrje1WXL-80"
      }
    },
    {
      "cell_type": "markdown",
      "source": [
        "#### 2. `Position`"
      ],
      "metadata": {
        "id": "8XW4kNDTbFsL"
      }
    },
    {
      "cell_type": "code",
      "source": [
        "# 먼저 시각화 하고 시작함\n",
        "fig, ax = plt.subplots(figsize = (10, 5))\n",
        "position_order = ['GK', 'LB', 'CB', 'RB', 'LWB', 'CDM', 'RWB', 'LM', 'CM', 'RM', 'CAM', 'LW', 'CF', 'RW', 'ST']\n",
        "(train[['Position', 'Prospect']].value_counts()\n",
        "                                .to_frame()\n",
        "                                .reset_index()\n",
        "                                .rename(columns = {0 : 'counts'})\n",
        "                                .pivot(index = 'Position', \n",
        "                                       columns = 'Prospect', \n",
        "                                       values = 'counts')\n",
        "                                .loc[position_order]\n",
        "                                .plot(kind = 'bar', stacked = True, ax = ax)\n",
        ")\n",
        "plt.title(\"Position and Prospect\")\n",
        "plt.gca().set_axisbelow(True)\n",
        "plt.grid(True, axis = 'y')"
      ],
      "metadata": {
        "id": "SNshEP9VD-Ll"
      },
      "execution_count": null,
      "outputs": []
    },
    {
      "cell_type": "markdown",
      "source": [
        "- 이거를 막 어떻게 다뤄봐야겠다는 생각은 딱 드는 게 없음\n",
        "- 그래서 시각화만 해두고 넘어감"
      ],
      "metadata": {
        "id": "fOsRibxUgCSJ"
      }
    },
    {
      "cell_type": "markdown",
      "source": [
        "### 양적 데이터\n",
        "1. "
      ],
      "metadata": {
        "id": "t7IDLaVrgLr2"
      }
    },
    {
      "cell_type": "code",
      "source": [
        "plt.figure(figsize = (7, 7))\n",
        "\n",
        "corr = train.corr()\n",
        "mask = np.zeros_like(corr, dtype = bool)\n",
        "mask[np.triu_indices_from(mask)] = True # 원래 행렬의 윗부분 절반을 1로 만드는 것\n",
        "\n",
        "sns.heatmap(data = corr, cmap = 'coolwarm', mask = mask) "
      ],
      "metadata": {
        "id": "T0PCDG4JD-QQ"
      },
      "execution_count": null,
      "outputs": []
    },
    {
      "cell_type": "markdown",
      "source": [
        "- 위 히트맵에서, 일부 필요없는 부분을 제외하고 시각화 함\n",
        "- 보고 싶은 건 2가지임\n",
        "  1. 각종 스탯 간의 관계\n",
        "  2. 각종 스탯과 `Position Rating`의 관계\n",
        "- 또한, 음의 상관 관계는 크게 중요한 부분이 아니라고 생각되어 제외하겠음"
      ],
      "metadata": {
        "id": "1cu8ZUo9h5Mq"
      }
    },
    {
      "cell_type": "code",
      "source": [
        "border = train.corr().columns.get_loc('GKReflexes') + 1 # 47"
      ],
      "metadata": {
        "id": "9BeNTR0pkaNG"
      },
      "execution_count": null,
      "outputs": []
    },
    {
      "cell_type": "code",
      "source": [
        "np.where(np.all(corr1 > 0.5))"
      ],
      "metadata": {
        "id": "LN5rIVkxpXPa"
      },
      "execution_count": null,
      "outputs": []
    },
    {
      "cell_type": "code",
      "source": [
        "threshold = np.where(corr1 > 0.5, 0, 1)"
      ],
      "metadata": {
        "id": "bJR__Ja6qAt4"
      },
      "execution_count": null,
      "outputs": []
    },
    {
      "cell_type": "code",
      "source": [
        "# 1. 스탯 간의 관계 보기\n",
        "\n",
        "# 근데 그냥 0 이상으로 두는게 낫지 않을까 싶으요?\n",
        "# 요건 솔직히 어떻게 해놔야 될지 모르겠다. 다음에 보도록 하자.\n",
        "corr1 = train.corr().iloc[:border, :border]\n",
        "mask = np.zeros_like(corr1, dtype = bool)\n",
        "mask[np.triu_indices_from(mask)] = True # 원래 행렬의 윗부분 절반을 1로 만드는 것\n",
        "\n",
        "\n",
        "plt.figure(figsize = (12, 12))\n",
        "sns.heatmap(data = corr1, \n",
        "            cmap = 'Reds', \n",
        "            mask = mask | np.where(corr1 > 0.5, 0, 1), \n",
        "            vmin = 0, \n",
        "            vmax = 1) "
      ],
      "metadata": {
        "id": "9pIih2GPD-S0"
      },
      "execution_count": null,
      "outputs": []
    },
    {
      "cell_type": "code",
      "source": [
        "corr2 = train.corr().iloc[:border, border:]\n",
        "# mask = np.zeros_like(corr2, dtype = bool)\n",
        "# mask[np.triu_indices_from(mask)] = True # 원래 행렬의 윗부분 절반을 1로 만드는 것\n",
        "\n",
        "plt.figure(figsize = (12, 12))\n",
        "sns.heatmap(data = corr2, \n",
        "            cmap = 'Reds', \n",
        "            mask = np.where(corr2 > 0.3, 0, 1),\n",
        "            vmin = 0 , \n",
        "            vmax = 1) "
      ],
      "metadata": {
        "id": "JopXrXzojEY2"
      },
      "execution_count": null,
      "outputs": []
    },
    {
      "cell_type": "markdown",
      "source": [
        "- 이렇게 놓고 봤을 때 명백히 나뉘는 구역이 3가지가 있음\n",
        "  - `LM, CM, RM` 영역 및 이보다 공격적인 위치\n",
        "  - `LWB, CDM, RWB` 영역 ~ 수비수 영역까지 수비적인 위치\n",
        "  - `GK`\n",
        "\n",
        "- 물론 그 속에서도 중앙이냐 측면이냐에 따른 역할 차이가 보이기는 함\n",
        "  - 특히 중앙 미드필더부터 수비적 포지션에 대해서 그 차이가 더 두드러져 보임"
      ],
      "metadata": {
        "id": "tB-rye0dj_4H"
      }
    },
    {
      "cell_type": "markdown",
      "source": [
        "# 전처리\n",
        "- 나중에 테스트 세트에도 적용해야 하니까 애껴둡시다."
      ],
      "metadata": {
        "id": "LCPaWv1K3vs-"
      }
    },
    {
      "cell_type": "code",
      "source": [
        "# 이거는 모델에 넣기 전에 진행하면 됨 - 먼저 나눠버리면 X축이 뭘 의미하는지 모르게 됨\n",
        "\n",
        "foot_order = ['Left', 'Right']\n",
        "work_rate_order = ['Low', 'Medium', 'High']\n",
        "position_order = ['GK', 'LB', 'CB', 'RB', 'LWB', 'CDM', 'RWB', 'LM', 'CM', 'RM', 'CAM', 'LW', 'CF', 'RW', 'ST']\n",
        "\n",
        "def column_label_order(df, col, order_lst):\n",
        "\n",
        "  LE = LabelEncoder()\n",
        "  LE.fit(df[col])\n",
        "  LE.classes_ = np.array(order_lst)\n",
        "  df[col] = LE.transform(df[col])\n",
        "\n",
        "\n",
        "column_label_order(train, 'PreferredFoot', foot_order)\n",
        "column_label_order(train, 'AttackingWorkRate', work_rate_order)\n",
        "column_label_order(train, 'DefensiveWorkRate', work_rate_order)\n",
        "column_label_order(train, 'Position', position_order)\n"
      ],
      "metadata": {
        "id": "vzrlkaJdLH5K"
      },
      "execution_count": null,
      "outputs": []
    }
  ]
}