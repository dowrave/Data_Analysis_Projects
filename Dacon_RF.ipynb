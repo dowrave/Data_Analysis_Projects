{
  "nbformat": 4,
  "nbformat_minor": 0,
  "metadata": {
    "colab": {
      "private_outputs": true,
      "provenance": [],
      "authorship_tag": "ABX9TyOE9qm2z6COdBpzkcl8U8RD",
      "include_colab_link": true
    },
    "kernelspec": {
      "name": "python3",
      "display_name": "Python 3"
    },
    "language_info": {
      "name": "python"
    }
  },
  "cells": [
    {
      "cell_type": "markdown",
      "metadata": {
        "id": "view-in-github",
        "colab_type": "text"
      },
      "source": [
        "<a href=\"https://colab.research.google.com/github/dowrave/Data_Analysis_Projects/blob/main/Dacon_RF.ipynb\" target=\"_parent\"><img src=\"https://colab.research.google.com/assets/colab-badge.svg\" alt=\"Open In Colab\"/></a>"
      ]
    },
    {
      "cell_type": "code",
      "execution_count": null,
      "metadata": {
        "id": "eHveP5s3HXEr"
      },
      "outputs": [],
      "source": [
        "from google.colab import drive\n",
        "drive.mount('/content/drive')"
      ]
    },
    {
      "cell_type": "code",
      "source": [
        "!pip install scikit-optimize"
      ],
      "metadata": {
        "id": "uwZzde9U7HmT"
      },
      "execution_count": null,
      "outputs": []
    },
    {
      "cell_type": "code",
      "source": [
        "import pandas as pd\n",
        "from pandas import CategoricalDtype\n",
        "import numpy as np \n",
        "import matplotlib.pyplot as plt\n",
        "import seaborn as sns\n",
        "from sklearn.preprocessing import StandardScaler, LabelEncoder\n",
        "from sklearn.model_selection import train_test_split, StratifiedKFold, cross_val_score, RandomizedSearchCV\n",
        "from sklearn.ensemble import RandomForestClassifier\n",
        "from sklearn.metrics import f1_score\n",
        "from skopt import BayesSearchCV\n",
        "\n",
        "pd.set_option('display.max_columns', None)"
      ],
      "metadata": {
        "id": "lPH0x2y9H2E2"
      },
      "execution_count": null,
      "outputs": []
    },
    {
      "cell_type": "code",
      "source": [
        "train = pd.read_csv('/content/drive/MyDrive/data/train.csv')\n",
        "test = pd.read_csv('/content/drive/MyDrive/data/test.csv')"
      ],
      "metadata": {
        "id": "dxvSBFKAIbWd"
      },
      "execution_count": null,
      "outputs": []
    },
    {
      "cell_type": "code",
      "source": [
        "train.head(2)"
      ],
      "metadata": {
        "id": "9xYQj5fcItnq"
      },
      "execution_count": null,
      "outputs": []
    },
    {
      "cell_type": "code",
      "source": [
        "train.info()"
      ],
      "metadata": {
        "id": "b__-Mh-hIuj0"
      },
      "execution_count": null,
      "outputs": []
    },
    {
      "cell_type": "markdown",
      "source": [
        "# 데이터 탐색"
      ],
      "metadata": {
        "id": "fx0YcbVC30KL"
      }
    },
    {
      "cell_type": "code",
      "source": [
        "train.hist(bins = 20, figsize = (20, 20))"
      ],
      "metadata": {
        "id": "UzXWi2g0om72"
      },
      "execution_count": null,
      "outputs": []
    },
    {
      "cell_type": "markdown",
      "source": [
        "## 질적 데이터"
      ],
      "metadata": {
        "id": "w6FPe1IoRZiW"
      }
    },
    {
      "cell_type": "markdown",
      "source": [
        "- 전체 데이터 중 유망주의 비율 : $0.361$"
      ],
      "metadata": {
        "id": "jW4o93VPRjgm"
      }
    },
    {
      "cell_type": "code",
      "source": [
        "train['Prospect'].sum() / train['Prospect'].count()"
      ],
      "metadata": {
        "id": "osqZY-jfRnIR"
      },
      "execution_count": null,
      "outputs": []
    },
    {
      "cell_type": "markdown",
      "source": [
        "#### 1. `PreferredFoot, WorkRate`\n",
        "선요약 )  \n",
        "- 특히 `WorkRate`의 경우는 높을수록 좋을 것이라는 생각을 하고 접근했지만, 가장 좋은 수치는 `Medium, Medium`에서 나왔음\n",
        "- `PreferredFoot`의 경우 또한 `Left`에서 희소성이 있을 거라 생각하고 접근했지만, 그렇지는 않았음\n",
        "- 둘 다 특별히 고칠 요소는 없는 것으로 보임\n"
      ],
      "metadata": {
        "id": "eDxvFMVgCfX2"
      }
    },
    {
      "cell_type": "code",
      "source": [
        "# 위 그래프는 이렇게 그려도 되지 않을까?\n",
        "sns.set_style('whitegrid')\n",
        "plt.figure(figsize = (10, 10))\n",
        "grid = sns.FacetGrid(data = train, col = 'Prospect')\n",
        "grid.map(sns.countplot, 'PreferredFoot', palette= 'tab10')"
      ],
      "metadata": {
        "id": "1BMMWbTz4ejf"
      },
      "execution_count": null,
      "outputs": []
    },
    {
      "cell_type": "code",
      "source": [
        "# 각 발 전체 인원 중 유망주 비율\n",
        "print(train[(train['PreferredFoot'] == 'Left')\n",
        "      & (train['Prospect'] == 1)]['ID'].count() / train[train['PreferredFoot'] == 'Left']['ID'].count(),\n",
        "      train[(train['PreferredFoot'] == 'Right')\n",
        "      & (train['Prospect'] == 1)]['ID'].count() / train[train['PreferredFoot'] == 'Right']['ID'].count(),\n",
        ")\n",
        "# 전체 인원 중 각 발의 비율\n",
        "print(train[train['PreferredFoot'] == 'Left']['ID'].count() / train['ID'].count(),\n",
        "      train[train['PreferredFoot'] == 'Right']['ID'].count() / train['ID'].count(),\n",
        ")\n",
        "# 유망주 전체 인원 중 각 발의 비율\n",
        "print(train[(train['PreferredFoot'] == 'Left')\n",
        "      & (train['Prospect'] == 1)]['ID'].count() / train[train['Prospect'] == 1]['ID'].count(),\n",
        "      train[(train['PreferredFoot'] == 'Right')\n",
        "      & (train['Prospect'] == 1)]['ID'].count() / train[train['Prospect'] == 1]['ID'].count(),\n",
        ")"
      ],
      "metadata": {
        "id": "bSmb1PLma_UO"
      },
      "execution_count": null,
      "outputs": []
    },
    {
      "cell_type": "markdown",
      "source": [
        "1. 각 발에 대해 전체 인원 중 유망주 비율\n",
        "- 왼발 : $0.33$\n",
        "- 오른발 : $0.37$\n",
        "\n",
        "2. 전체 인원과 각 발의 비율\n",
        "- 왼발 : $0.24$\n",
        "- 오른발 : $0.75$\n",
        "\n",
        "3. 유망주 전체 인원과 각 발의 비율\n",
        "- 왼발 : $0.22$\n",
        "- 오른발 : $0.78$"
      ],
      "metadata": {
        "id": "9X--sPjqYi5j"
      }
    },
    {
      "cell_type": "code",
      "source": [
        "fig, ax = plt.subplots(2, 2, figsize = (10, 10))\n",
        "\n",
        "for i, val in enumerate(['AttackingWorkRate', 'DefensiveWorkRate']):\n",
        "  if i == 0:\n",
        "    color = np.array(sns.color_palette('OrRd'))[[1, 3, 5], :]\n",
        "  elif i == 1:\n",
        "    color = np.array(sns.color_palette('Blues'))[[1, 3, 5], :]\n",
        "  \n",
        "  (train[val].value_counts()[['Low', 'Medium', 'High']]\n",
        "                          .to_frame()\n",
        "                          .T\n",
        "                          .plot(kind = 'bar', \n",
        "                                stacked = True, \n",
        "                                rot = 0,\n",
        "                                ax = ax[i][0],\n",
        "                                color = color)\n",
        "                          )\n",
        "  ax[i][0].legend().set_visible(False)\n",
        "\n",
        "  (train[train['Prospect'] == 1][val].value_counts()[['Low', 'Medium', 'High']]\n",
        "                                                  .to_frame()\n",
        "                                                  .T\n",
        "                                                  .plot(kind = 'bar', \n",
        "                                                        stacked = True, \n",
        "                                                        rot = 0,\n",
        "                                                        ax = ax[i][1],\n",
        "                                                        color = color\n",
        "  ))\n",
        "\n",
        "  ax[i][1].set_ylim(ax[i][0].get_ylim())"
      ],
      "metadata": {
        "id": "_RHPIXCSZZl0"
      },
      "execution_count": null,
      "outputs": []
    },
    {
      "cell_type": "code",
      "source": [
        "# 위 사항은 수치적으로 보고 싶음 : WorkRate에는 총 9가지 유형이 있는데, 이에 따른 생존율을 비교해보자\n",
        "temp = (train[['ID', 'AttackingWorkRate', 'DefensiveWorkRate', 'Prospect']]\n",
        "                                                              .groupby(['AttackingWorkRate', 'DefensiveWorkRate', 'Prospect'])['ID']\n",
        "                                                              .count()\n",
        "                                                              .to_frame()\n",
        "                                                              .reset_index().rename(columns = {\"ID\" : 'counts'})\n",
        ")\n",
        "temp.head(2)"
      ],
      "metadata": {
        "id": "qFYNRGtOZZoI"
      },
      "execution_count": null,
      "outputs": []
    },
    {
      "cell_type": "code",
      "source": [
        "sns.catplot(data = temp, \n",
        "            x = 'AttackingWorkRate', \n",
        "            y = 'counts', \n",
        "            hue = 'DefensiveWorkRate', \n",
        "            col = 'Prospect', \n",
        "            kind = 'bar', \n",
        "            order = ['Low', 'Medium', 'High'], \n",
        "            hue_order = ['Low', 'Medium', 'High'],\n",
        "            ax = ax)\n",
        "plt.suptitle(\"ATT / DEF WorkRate and The Num of Prospect\", y = 1.05, fontsize = 15)\n",
        "plt.tight_layout()"
      ],
      "metadata": {
        "id": "_02WlcCVD-Ja"
      },
      "execution_count": null,
      "outputs": []
    },
    {
      "cell_type": "code",
      "source": [
        "temp['rates'] = temp['counts'] / temp.groupby(['AttackingWorkRate', 'DefensiveWorkRate'])['counts'].transform(\"sum\")\n",
        "temp_hm = temp[temp['Prospect'] == 1][:]\n",
        "temp_hm = temp_hm.pivot(index = 'AttackingWorkRate', columns = 'DefensiveWorkRate', values = 'rates').loc[['High', 'Medium', 'Low'], ['Low', 'Medium', 'High']]"
      ],
      "metadata": {
        "id": "6yz2UJUyFE2i"
      },
      "execution_count": null,
      "outputs": []
    },
    {
      "cell_type": "code",
      "source": [
        "plt.figure(figsize = (7, 7))\n",
        "sns.heatmap(data = temp_hm, annot = True, fmt = '.3f', cmap = 'Blues', vmin = 0, vmax = 1)\n",
        "plt.title(\"Att / Def WorkRate and Prospect Rate\")"
      ],
      "metadata": {
        "id": "wYaRxqgNJlse"
      },
      "execution_count": null,
      "outputs": []
    },
    {
      "cell_type": "markdown",
      "source": [
        "- `Low, Low`에 있는 요소는 샘플이 1개니까 크게 고려할 요소는 아님\n",
        "- 애초에 예상한 건 `오른쪽 위로 갈수록 활동량이 좋으니 Prospect 비율이 높을 것이다` 였는데, 그렇지는 않은 것으로 나타남"
      ],
      "metadata": {
        "id": "NLrje1WXL-80"
      }
    },
    {
      "cell_type": "markdown",
      "source": [
        "#### 2. `Position`"
      ],
      "metadata": {
        "id": "8XW4kNDTbFsL"
      }
    },
    {
      "cell_type": "code",
      "source": [
        "train['Position'].unique()"
      ],
      "metadata": {
        "id": "IZ5vf0ZQ-dad"
      },
      "execution_count": null,
      "outputs": []
    },
    {
      "cell_type": "code",
      "source": [
        "# 먼저 시각화 하고 시작함\n",
        "position_order = ['GK', 'LB', 'CB', 'RB', 'LWB', 'CDM', 'RWB', 'LM', 'CM', 'RM', 'CAM', 'LW', 'CF', 'RW', 'ST']\n",
        "pos = (train[['Position', 'Prospect']].value_counts()\n",
        "                                .to_frame()\n",
        "                                .reset_index()\n",
        "                                .rename(columns = {0 : 'counts'})\n",
        "                                .pivot(index = 'Position', \n",
        "                                       columns = 'Prospect', \n",
        "                                       values = 'counts')\n",
        "                                .loc[position_order]\n",
        "    )\n",
        "pos"
      ],
      "metadata": {
        "id": "SNshEP9VD-Ll"
      },
      "execution_count": null,
      "outputs": []
    },
    {
      "cell_type": "code",
      "source": [
        "fig, ax = plt.subplots(figsize = (10, 5))\n",
        "pos.plot(kind = 'bar', stacked = True, ax = ax)\n",
        "ax.set_title(\"Position and Prospect\")\n",
        "ax.set_axisbelow(True)\n",
        "plt.grid(True, axis = 'y')"
      ],
      "metadata": {
        "id": "MYAs6EAIPQqu"
      },
      "execution_count": null,
      "outputs": []
    },
    {
      "cell_type": "markdown",
      "source": [
        "- CAM, CB, ST, GK, RM 순으로 데이터의 양이 많음\n",
        "- CF, LW, RW는 정말 적은 양을 차지함\n",
        "  - 그러나 0과 1에 대한 label이 모두 있기 때문에 포지션에서 배제하지는 않겠음"
      ],
      "metadata": {
        "id": "fOsRibxUgCSJ"
      }
    },
    {
      "cell_type": "markdown",
      "source": [
        "## 양적 데이터"
      ],
      "metadata": {
        "id": "t7IDLaVrgLr2"
      }
    },
    {
      "cell_type": "code",
      "source": [
        "plt.figure(figsize = (7, 7))\n",
        "\n",
        "corr = train.corr()\n",
        "mask = np.zeros_like(corr, dtype = bool)\n",
        "mask[np.triu_indices_from(mask)] = True # 원래 행렬의 윗부분 절반을 1로 만드는 것\n",
        "\n",
        "sns.heatmap(data = corr, cmap = 'coolwarm', mask = mask) "
      ],
      "metadata": {
        "id": "T0PCDG4JD-QQ"
      },
      "execution_count": null,
      "outputs": []
    },
    {
      "cell_type": "markdown",
      "source": [
        "- 위 히트맵에서, 일부 필요없는 부분을 제외하고 시각화 함\n",
        "- 보고 싶은 건 2가지임\n",
        "  1. 각종 스탯 간의 관계\n",
        "  2. 각종 스탯과 `Position Rating`의 관계\n",
        "- 또한, "
      ],
      "metadata": {
        "id": "1cu8ZUo9h5Mq"
      }
    },
    {
      "cell_type": "code",
      "source": [
        "border = train.corr().columns.get_loc('GKReflexes') + 1 # 47"
      ],
      "metadata": {
        "id": "9BeNTR0pkaNG"
      },
      "execution_count": null,
      "outputs": []
    },
    {
      "cell_type": "code",
      "source": [
        "# 1. 스탯 간의 관계 보기\n",
        "\n",
        "# 근데 그냥 0 이상으로 두는게 낫지 않을까 싶으요?\n",
        "# 요건 솔직히 어떻게 해놔야 될지 모르겠다. 다음에 보도록 하자.\n",
        "corr1 = train.corr().iloc[:border, :border]\n",
        "mask = np.zeros_like(corr1, dtype = bool)\n",
        "mask[np.triu_indices_from(mask)] = True # 원래 행렬의 윗부분 절반을 1로 만드는 것\n",
        "\n",
        "\n",
        "plt.figure(figsize = (12, 12))\n",
        "sns.heatmap(data = corr1, \n",
        "            cmap = 'PRGn', \n",
        "            mask = (mask \n",
        "                   # | np.where(corr1 > 0.5, 0, 1)\n",
        "                    ), \n",
        "            vmin = -1, \n",
        "            vmax = 1) "
      ],
      "metadata": {
        "id": "9pIih2GPD-S0"
      },
      "execution_count": null,
      "outputs": []
    },
    {
      "cell_type": "markdown",
      "source": [
        "- 전체적으로 봤을 때, 모든 값을 모델에 포함한다면 중복되는 영역이 생김\n",
        "  - 예를 들면 ~~Total에 들어가는 값에는 중복이 있을 것\n",
        "  - 또한 `Rating`에 대한 수치도 중복이 있을 것이다"
      ],
      "metadata": {
        "id": "uZL6BXLXA_o4"
      }
    },
    {
      "cell_type": "code",
      "source": [
        "corr2 = train.corr().iloc[:border, border:]\n",
        "# mask = np.zeros_like(corr2, dtype = bool)\n",
        "# mask[np.triu_indices_from(mask)] = True # 원래 행렬의 윗부분 절반을 1로 만드는 것\n",
        "\n",
        "plt.figure(figsize = (12, 12))\n",
        "sns.heatmap(data = corr2, \n",
        "            cmap = 'PRGn', \n",
        "            # mask = np.where(corr2 > 0.3, 0, 1),\n",
        "            vmin = -1, \n",
        "            vmax = 1) "
      ],
      "metadata": {
        "id": "JopXrXzojEY2"
      },
      "execution_count": null,
      "outputs": []
    },
    {
      "cell_type": "markdown",
      "source": [
        "- 이렇게 놓고 봤을 때 명백히 나뉘는 구역이 3가지가 있음\n",
        "  - `LM, CM, RM` 영역 및 이보다 공격적인 위치\n",
        "  - `LWB, CDM, RWB` 영역 ~ 수비수 영역까지 수비적인 위치\n",
        "  - `GK`\n",
        "- 이렇게 나눠지는 영역에서도 `CM`이나 `CDM`은 다른 경향을 보임\n"
      ],
      "metadata": {
        "id": "tB-rye0dj_4H"
      }
    },
    {
      "cell_type": "code",
      "source": [
        "foot_order = ['Left', 'Right']\n",
        "work_rate_order = ['Low', 'Medium', 'High']\n",
        "\n",
        "def column_label_order(df, col, order_lst):\n",
        "\n",
        "  LE = LabelEncoder()\n",
        "  LE.fit(df[col])\n",
        "  LE.classes_ = np.array(order_lst)\n",
        "  df[col] = LE.transform(df[col])\n",
        "\n",
        "\n",
        "column_label_order(train, 'PreferredFoot', foot_order)\n",
        "column_label_order(train, 'AttackingWorkRate', work_rate_order)\n",
        "column_label_order(train, 'DefensiveWorkRate', work_rate_order)"
      ],
      "metadata": {
        "id": "NAgRckIig1SU"
      },
      "execution_count": null,
      "outputs": []
    },
    {
      "cell_type": "code",
      "source": [
        "train.columns"
      ],
      "metadata": {
        "id": "moN6pCGtg7ZR"
      },
      "execution_count": null,
      "outputs": []
    },
    {
      "cell_type": "code",
      "source": [
        "train_ab = train.iloc[:, np.r_[0: train.columns.get_loc('DefensiveWorkRate') + 1, train.columns.get_loc('Crossing') : train.columns.get_loc('GKReflexes') + 1, -1]]\n",
        "train_ab.head(2)"
      ],
      "metadata": {
        "id": "rfBuMOmkHvXq"
      },
      "execution_count": null,
      "outputs": []
    },
    {
      "cell_type": "code",
      "source": [
        "train_ab_avg = (train_ab.iloc[:, 1:].groupby(['Position', 'Prospect'])\n",
        "                                    .mean()\n",
        "                                    .reset_index()\n",
        "                                    .set_index(['Position', 'Prospect'])\n",
        "                                    .T\n",
        "                )\n",
        "train_ab_avg.head(2)"
      ],
      "metadata": {
        "id": "nvs4fJ9lLtdC"
      },
      "execution_count": null,
      "outputs": []
    },
    {
      "cell_type": "markdown",
      "source": [
        "- 위 표를 보면 가장 의외인 지점은, 같은 포지션에서도 `Prospect = 0`의 스탯이 더 높은 수치를 나타내는 곳이 많다.\n",
        "- `Age`는 `Prospect`를 결정하는 중요한 요인이라고 생각됨."
      ],
      "metadata": {
        "id": "mUdPoM5Uh88x"
      }
    },
    {
      "cell_type": "code",
      "source": [
        "sns.countplot(data = train, x = 'Age', hue = 'Prospect')"
      ],
      "metadata": {
        "id": "wko3ZjCDjK8O"
      },
      "execution_count": null,
      "outputs": []
    },
    {
      "cell_type": "markdown",
      "source": [],
      "metadata": {
        "id": "QQHeDBowpnnT"
      }
    },
    {
      "cell_type": "markdown",
      "source": [
        "## 중복을 생각해 배제했던 Rating이나 Total에 대한 정보 보기\n",
        "\n"
      ],
      "metadata": {
        "id": "c1uX0qoGQbgs"
      }
    },
    {
      "cell_type": "markdown",
      "source": [
        "### 1. Rating\n",
        "- 선수의 주 포지션과 주 포지션 레이팅, 유망 여부의 df를 따로 분리해서 보겠음\n",
        "  - 즉 자기 포지션의 레이팅과 유망 여부가 관련이 있는가를 보는 것"
      ],
      "metadata": {
        "id": "AgI4plFWlOri"
      }
    },
    {
      "cell_type": "code",
      "source": [
        "train['Position'].unique()"
      ],
      "metadata": {
        "id": "qT-Du-1bYQXf"
      },
      "execution_count": null,
      "outputs": []
    },
    {
      "cell_type": "code",
      "source": [
        "pos_rat = train.iloc[:, np.r_[0, 4, train.columns.get_loc('STRating') : train.columns.get_loc('Prospect') + 1]]\n",
        "GK = pos_rat[pos_rat['Position'] == 'GK'][['ID', 'Position', 'GKRating', 'Prospect']].rename(columns = {'GKRating' : 'POSRating' })\n",
        "ST = pos_rat[pos_rat['Position'] == 'ST'][['ID', 'Position', 'STRating', 'Prospect']].rename(columns = {'STRating' : 'POSRating' })\n",
        "RB = pos_rat[pos_rat['Position'] == 'RB'][['ID', 'Position', 'RBRating', 'Prospect']].rename(columns = {'RBRating' : 'POSRating' })\n",
        "LB = pos_rat[pos_rat['Position'] == 'LB'][['ID', 'Position', 'LBRating', 'Prospect']].rename(columns = {'LBRating' : 'POSRating' })\n",
        "CDM = pos_rat[pos_rat['Position'] == 'CDM'][['ID', 'Position', 'CDMRating', 'Prospect']].rename(columns = {'CDMRating' : 'POSRating' })\n",
        "CAM = pos_rat[pos_rat['Position'] == 'CAM'][['ID', 'Position', 'CAMRating', 'Prospect']].rename(columns = {'CAMRating' : 'POSRating' })\n",
        "CM = pos_rat[pos_rat['Position'] == 'CM'][['ID', 'Position', 'CMRating', 'Prospect']].rename(columns = {'CMRating' : 'POSRating' })\n",
        "RM = pos_rat[pos_rat['Position'] == 'RM'][['ID', 'Position', 'RMRating', 'Prospect']].rename(columns = {'RMRating' : 'POSRating' })\n",
        "LM = pos_rat[pos_rat['Position'] == 'LM'][['ID', 'Position', 'LMRating', 'Prospect']].rename(columns = {'LMRating' : 'POSRating' })\n",
        "RWB = pos_rat[pos_rat['Position'] == 'RWB'][['ID', 'Position', 'RWBRating', 'Prospect']].rename(columns = {'RWBRating' : 'POSRating' })\n",
        "LWB = pos_rat[pos_rat['Position'] == 'LWB'][['ID', 'Position', 'LWBRating', 'Prospect']].rename(columns = {'LWBRating' : 'POSRating' })\n",
        "RW = pos_rat[pos_rat['Position'] == 'RW'][['ID', 'Position', 'RWRating', 'Prospect']].rename(columns = {'RWRating' : 'POSRating' })\n",
        "CF = pos_rat[pos_rat['Position'] == 'CF'][['ID', 'Position', 'CFRating', 'Prospect']].rename(columns = {'CFRating' : 'POSRating' })\n",
        "LW = pos_rat[pos_rat['Position'] == 'LW'][['ID', 'Position', 'LWRating', 'Prospect']].rename(columns = {'LWRating' : 'POSRating' })\n",
        "pos_rat = pd.concat([GK, ST, RB, LB, CDM, CAM, CM, RM, LM, RWB, LWB, RW, CF, LW])"
      ],
      "metadata": {
        "id": "n51Gul7sQhUJ"
      },
      "execution_count": null,
      "outputs": []
    },
    {
      "cell_type": "code",
      "source": [
        "pos_rat_stt = pos_rat.groupby(['Position', 'Prospect'])['POSRating'].mean().reset_index().rename(columns = {\"POSRating\" : 'mean_score'})\n",
        "\n",
        "pos_rat_stt.columns"
      ],
      "metadata": {
        "id": "jkKKzLBxX9tV"
      },
      "execution_count": null,
      "outputs": []
    },
    {
      "cell_type": "code",
      "source": [
        "fig, ax = plt.subplots(figsize = (10, 7))\n",
        "\n",
        "sns.barplot(data = pos_rat_stt,\n",
        "            x = 'Position',\n",
        "            y = 'mean_score',\n",
        "            hue = 'Prospect',\n",
        "            ax = ax)\n",
        "plt.gca().legend().set_visible(False)\n",
        "ax.set_ylim([5, 7])\n",
        "ax.set_title('Position Rating and Prospect')"
      ],
      "metadata": {
        "id": "tsZsGXahTBMt"
      },
      "execution_count": null,
      "outputs": []
    },
    {
      "cell_type": "markdown",
      "source": [
        "- 역시 `Prospect = 1`에서 전반적인 스탯이 더 낮게 나옴\n",
        "  - `LW`가 특이한 모습을 보이지만 이는 샘플 수가 적은 것에서 기인한다고 판단함\n",
        "  - 포지션 별로 평균 나이를 뽑아도 되겠지만 위에서 나이에 대한 결론을 미리 냈기 때문에 따로 진행하지 않겠음\n",
        "- `CF`의 경우 `Prospect = 1`이 없기 때문에 따로 처리할 필요가 있음"
      ],
      "metadata": {
        "id": "tQplyxDxbMfA"
      }
    },
    {
      "cell_type": "code",
      "source": [
        "sns.heatmap(data = train.corr().iloc[[train.corr().columns.get_loc('STRating'), train.corr().columns.get_loc('CFRating'), train.corr().columns.get_loc('CAMRating')], [train.corr().columns.get_loc('STRating'), train.corr().columns.get_loc('CFRating'), train.corr().columns.get_loc('CAMRating')]],\n",
        "            annot = True,\n",
        "            fmt = '.3f'\n",
        ")"
      ],
      "metadata": {
        "id": "rv6EsUIUpWQs"
      },
      "execution_count": null,
      "outputs": []
    },
    {
      "cell_type": "markdown",
      "source": [
        "- `CF`는 `CAM`과의 상관계수가 더 높기 때문에 `CAM`으로 처리하겠음"
      ],
      "metadata": {
        "id": "OC86xF6DpXgh"
      }
    },
    {
      "cell_type": "markdown",
      "source": [
        "### 2. Total"
      ],
      "metadata": {
        "id": "6Iu7TYgGbhYd"
      }
    },
    {
      "cell_type": "code",
      "source": [
        "pos_tot = train.iloc[:, np.r_[0, 4, train.columns.get_loc('PaceTotal') : train.columns.get_loc('PhysicalityTotal') + 1, -1]]\n",
        "pos_tot_stt = pos_tot.groupby(['Position', 'Prospect'])['PaceTotal', 'ShootingTotal', 'PassingTotal', 'DribblingTotal', 'DefendingTotal', 'PhysicalityTotal'].mean().reset_index()\n",
        "pos_tot_stt = pos_tot_stt.melt(id_vars = ['Position', 'Prospect'])\n",
        "pos_tot_stt"
      ],
      "metadata": {
        "id": "cK7Otxqzbjn3"
      },
      "execution_count": null,
      "outputs": []
    },
    {
      "cell_type": "code",
      "source": [
        "pos_tot_stt"
      ],
      "metadata": {
        "id": "O1eT_-pzhjMN"
      },
      "execution_count": null,
      "outputs": []
    },
    {
      "cell_type": "code",
      "source": [
        "sns.catplot(data = pos_tot_stt,\n",
        "        x = 'Prospect',\n",
        "        y = 'value',\n",
        "        row = 'Position',\n",
        "        hue = 'variable',\n",
        "        kind = 'bar'\n",
        ")"
      ],
      "metadata": {
        "id": "xpgAFzK6ejL3"
      },
      "execution_count": null,
      "outputs": []
    },
    {
      "cell_type": "markdown",
      "source": [
        "- 역시 `Prospect = 1`에서 전반적으로 낮은 스탯이 나옴\n",
        "\n"
      ],
      "metadata": {
        "id": "Wc1aFpcgkdkc"
      }
    },
    {
      "cell_type": "markdown",
      "source": [
        "## 선호하는 발과, 포지션 간의 관계\n",
        "- 위에선 선호하는 발의 비율만을 봤지만, 통념상 왼쪽 측면엔 왼발 선수, 오른쪽 측면엔 오른쪽발 선수를 선호하는 경향이 있다.\n",
        "- 정말 그런지 살펴보고 그렇다면 선호하는 발에 대한 특성을 추가해준다"
      ],
      "metadata": {
        "id": "tyjtCKSip0jy"
      }
    },
    {
      "cell_type": "code",
      "source": [
        "train = pd.read_csv('/content/drive/MyDrive/data/train.csv')\n",
        "temp = train[['ID', 'Position', 'PreferredFoot', 'Prospect']]\n",
        "temp['Position'].unique()"
      ],
      "metadata": {
        "id": "nc_H0JeeqX5s"
      },
      "execution_count": null,
      "outputs": []
    },
    {
      "cell_type": "code",
      "source": [
        "def get_hor_pos(x):\n",
        "  if x in ['LB', 'LM', 'LWB', 'LW']:\n",
        "    return 0\n",
        "  elif x in ['RB', 'RM', 'RWB', 'RW']:\n",
        "    return 1\n",
        "  else:\n",
        "    return 2\n",
        "\n",
        "temp.loc[:, 'horizontal_pos'] = temp['Position'].apply(lambda x : get_hor_pos(x))\n",
        "temp = temp.groupby(['horizontal_pos', 'PreferredFoot', 'Prospect'])['ID'].count().to_frame().reset_index().rename(columns = {'ID' : 'counts'})"
      ],
      "metadata": {
        "id": "KimdikvUqjRK"
      },
      "execution_count": null,
      "outputs": []
    },
    {
      "cell_type": "code",
      "source": [
        "sns.catplot(data = temp,\n",
        "            x = 'horizontal_pos',\n",
        "            y = 'counts',\n",
        "            row = 'PreferredFoot',\n",
        "            col = 'Prospect',\n",
        "            kind = 'bar',\n",
        "            order = ['LEFT', 'CENTER', 'RIGHT'],\n",
        "            ax = ax\n",
        "            )\n"
      ],
      "metadata": {
        "id": "vtNneBR4qkZB"
      },
      "execution_count": null,
      "outputs": []
    },
    {
      "cell_type": "markdown",
      "source": [
        "- 포지션이 Center인 경우는 큰 상관이 없지만, 측면에 서는 경우는 관련이 있음을 알 수 있음\n",
        "- 유망한지 여부와 관련이 없을 수도 있지만 중요한 특성이라고 생각되어 기존 주 포지션을 횡 / 종으로 나누는 것을 생각해봄직함"
      ],
      "metadata": {
        "id": "31r-qlHDtUsi"
      }
    },
    {
      "cell_type": "markdown",
      "source": [
        "## 수직적인 위치\n",
        "- LF, RF, CF는 없는 포지션이다~ 생각하겠음\n",
        "  - 실제로 앞의 2개는 없고, 뒤의 1개는 매우 적음\n",
        "  "
      ],
      "metadata": {
        "id": "Gw-VEkCavLYD"
      }
    },
    {
      "cell_type": "code",
      "source": [
        "temp = train.corr()\n",
        "a = temp.columns.get_loc('STRating')\n",
        "b = temp.columns.get_loc('GKRating')\n",
        "\n",
        "plt.figure(figsize = (12, 12))\n",
        "sns.heatmap(data = temp.iloc[np.r_[a:a+2, a+5 : b+1], np.r_[a:a+2, a+5 : b+1]],\n",
        "            annot = True,\n",
        "            fmt = '.3f',\n",
        "            vmin = 0.95,\n",
        "            vmax = 1,\n",
        "            cmap = 'Blues'\n",
        ")"
      ],
      "metadata": {
        "id": "BRUsN-2KqkWw"
      },
      "execution_count": null,
      "outputs": []
    },
    {
      "cell_type": "markdown",
      "source": [
        "- 가장 충돌이 있을만한 지점들이 윙백이랑 수미, 풀백의 높이정보임\n",
        "  - 윙백 > 풀백인 건 알겠는데, 수미를 놓으면 애매함\n",
        "  - 근데 윙백이랑 풀백이 비슷하게 나온단 말임?\n",
        "  - 수미는 풀백에 더 가까움\n",
        "- 방법 1. `ST` - `LW, RW, CAM, LM, RM` - `CM` - `LWB/RWB` - `LB/CDM/RB` - `CB` - `GK` 순으로 놓는다\n"
      ],
      "metadata": {
        "id": "C2C8Ip392Afo"
      }
    },
    {
      "cell_type": "code",
      "source": [
        "\n",
        "def get_vert_pos(x):\n",
        "  if x in ['ST']:\n",
        "    return 6\n",
        "  elif x in ['LW', 'RW', 'CAM', 'LM', 'RM']:\n",
        "    return 5\n",
        "  elif x in ['CM']:\n",
        "    return 4\n",
        "  elif x in ['LWB', 'RWB']:\n",
        "    return 3\n",
        "  elif x in ['LB',' CDM', 'RB']:\n",
        "    return 2\n",
        "  elif x in ['CB']:\n",
        "    return 1\n",
        "  else:\n",
        "    return 0\n",
        "\n",
        "train['vert_pos'] = train['Position'].apply(lambda x : get_vert_pos(x))\n",
        "train['hor_pos'] = train['Position'].apply(lambda x : get_hor_pos(x))\n",
        "train = train.drop('Position', axis = 1)\n"
      ],
      "metadata": {
        "id": "NaSmBn-fqkUW"
      },
      "execution_count": null,
      "outputs": []
    },
    {
      "cell_type": "code",
      "source": [
        "train"
      ],
      "metadata": {
        "id": "p7_Vm9LO39t6"
      },
      "execution_count": null,
      "outputs": []
    },
    {
      "cell_type": "code",
      "source": [
        "# 포지션 비슷한 정도를 파악할 때 PCA 쓸 수 있지 않을까?"
      ],
      "metadata": {
        "id": "052prhMlHdrM"
      },
      "execution_count": null,
      "outputs": []
    },
    {
      "cell_type": "markdown",
      "source": [
        "- 방법 2. `ST` - `LW, RW, CAM, LM, RM` - `CM` - `LWB/RWB/LB/CDM/RB` - `CB` - `GK` 순으로 놓는다"
      ],
      "metadata": {
        "id": "otDKZZKH3MI_"
      }
    },
    {
      "cell_type": "code",
      "source": [],
      "metadata": {
        "id": "EvgIXH-QqkGd"
      },
      "execution_count": null,
      "outputs": []
    },
    {
      "cell_type": "markdown",
      "source": [
        "- 방법 3. 작은 소수점들을 뭉뚱그리지 않고 그냥 데이터를 그대로 넣는다"
      ],
      "metadata": {
        "id": "_61OARyJ41Dn"
      }
    },
    {
      "cell_type": "markdown",
      "source": [
        "------------------------------------\n",
        "## 구분선 & 위 내용 요약\n",
        "1. `Prospect = 1`에서 레이팅이든 토탈 스탯이든 전반적으로 낮은 경향을 보인다.\n",
        "  - 이는 유망한 선수들의 나이가 전반적으로 더 어린 데에서 기인한다. 평균으로 생각해도 마찬가지\n",
        "2. `CF`는 양이 적고, 무조건 `Prospect = 0`이기 때문에 별도의 처리를 해준다\n",
        "  - `df.corr()`을 돌렸을 때, `ST`와 `CAM`중 `CAM`에 대한 상관계수가 더 높기 때문에 **데이터 처리 시 `CF`는 `CAM`으로 처리한다**\n",
        "3. 포지션을 횡 / 종으로 나눈다\n",
        "  - 측면에 서는 경우 선호하는 발과 위치 간의 연관 관계가 있기 때문이다.\n",
        "  - 종의 경우 6가지 vs 5가지 중 고민 중\n",
        "------------------------------------"
      ],
      "metadata": {
        "id": "xHoqSa9fknZj"
      }
    },
    {
      "cell_type": "markdown",
      "source": [
        "# 전처리\n"
      ],
      "metadata": {
        "id": "LCPaWv1K3vs-"
      }
    },
    {
      "cell_type": "code",
      "source": [
        "train = pd.read_csv('/content/drive/MyDrive/data/train.csv', index_col = 'ID')\n",
        "test = pd.read_csv('/content/drive/MyDrive/data/test.csv', index_col = 'ID')"
      ],
      "metadata": {
        "id": "hND4iGdItqoD"
      },
      "execution_count": null,
      "outputs": []
    },
    {
      "cell_type": "code",
      "source": [
        "\n",
        "# CF -> CAM\n",
        "train[train['Position'] == 'CF'][:] = 'CAM'\n",
        "\n",
        "# Position -> Horizontal + Vertical\n",
        "train['vert_pos'] = train['Position'].apply(lambda x : get_vert_pos(x))\n",
        "train['hor_pos'] = train['Position'].apply(lambda x : get_hor_pos(x))\n",
        "train = train.drop('Position', axis = 1)\n",
        "\n",
        "\n",
        "# CF -> CAM\n",
        "test[test['Position'] == 'CF'][:] = 'CAM'\n",
        "\n",
        "# Position -> Horizontal + Vertical\n",
        "test['vert_pos'] = test['Position'].apply(lambda x : get_vert_pos(x))\n",
        "test['hor_pos'] = test['Position'].apply(lambda x : get_hor_pos(x))\n",
        "test = test.drop('Position', axis = 1)\n",
        "\n",
        "print(train.shape, test.shape)"
      ],
      "metadata": {
        "id": "RrHd5Dam5drd"
      },
      "execution_count": null,
      "outputs": []
    },
    {
      "cell_type": "markdown",
      "source": [
        "### LabelEncoder"
      ],
      "metadata": {
        "id": "UkPq91Amt8g5"
      }
    },
    {
      "cell_type": "code",
      "source": [
        "# 이거는 모델에 넣기 전에 진행하면 됨 - 먼저 나눠버리면 X축이 뭘 의미하는지 모르게 됨\n",
        "\n",
        "foot_order = ['Left', 'Right']\n",
        "work_rate_order = ['Low', 'Medium', 'High']\n",
        "\n",
        "def column_label_order(df, col, order_lst):\n",
        "\n",
        "  LE = LabelEncoder()\n",
        "  LE.fit(df[col])\n",
        "  LE.classes_ = np.array(order_lst)\n",
        "  df[col] = LE.transform(df[col])\n",
        "  test[col] = LE.transform(test[col]) # 테스트 데이터에도 적용함\n",
        "\n",
        "column_label_order(train, 'PreferredFoot', foot_order)\n",
        "column_label_order(train, 'AttackingWorkRate', work_rate_order)\n",
        "column_label_order(train, 'DefensiveWorkRate', work_rate_order)\n"
      ],
      "metadata": {
        "id": "vzrlkaJdLH5K"
      },
      "execution_count": null,
      "outputs": []
    },
    {
      "cell_type": "markdown",
      "source": [
        "### OneHotEncoder"
      ],
      "metadata": {
        "id": "35XXN9PWhzrB"
      }
    },
    {
      "cell_type": "code",
      "source": [
        "# 범주형 데이터들 원핫인코딩\n",
        "train_X = train.iloc[:, np.r_[:3, train.columns.get_loc('Crossing'):train.columns.get_loc('GKReflexes') + 1]]\n",
        "train_y = train['Prospect']\n",
        "\n",
        "\n",
        "for i in ['PreferredFoot', 'AttackingWorkRate', 'DefensiveWorkRate', 'Position']:\n",
        "  onehot = pd.get_dummies(train[i], \n",
        "                #  drop_first = True,\n",
        "                prefix = i\n",
        "                )\n",
        "  train_X = train_X.join(onehot)"
      ],
      "metadata": {
        "id": "BACMKp3V3Fv9"
      },
      "execution_count": null,
      "outputs": []
    },
    {
      "cell_type": "markdown",
      "source": [
        "### 공통\n",
        "- 인코딩된 값들은 따로 표준화를 진행하지 않음\n",
        "- 나이 같은 값은 minMaxScaling이 나은 것 같은데"
      ],
      "metadata": {
        "id": "tUoQGivb3B21"
      }
    },
    {
      "cell_type": "code",
      "source": [
        "# 여기부턴 공통\n",
        "train_X = train.iloc[:, np.r_[:6, train.columns.get_loc('Crossing'):train.columns.get_loc('GKReflexes') + 1, -2, -1]]\n",
        "train_y = train.loc[:, 'Prospect']\n",
        "test = test.iloc[:, np.r_[:6, test.columns.get_loc('Crossing'):test.columns.get_loc('GKReflexes') + 1, -2, -1]]\n",
        "\n",
        "train_X.shape, test.shape"
      ],
      "metadata": {
        "id": "RSCuEA4P26Cd"
      },
      "execution_count": null,
      "outputs": []
    },
    {
      "cell_type": "code",
      "source": [
        "# 나머지 모든 데이터를 평균 0, 표준편차 1 사이로 표준화함\n",
        "# 나중에 정규화(minmax)로도 해보자\n",
        "ss = StandardScaler()\n",
        "ss.fit_transform(train_X.iloc[:, np.r_[:3, test.columns.get_loc('Crossing'):train_X.columns.get_loc('GKReflexes') + 1]])\n",
        "# train_X.iloc[:, :train_X.columns.get_loc('GKReflexes') + 1] = ss.transform(train_X.iloc[:, :train_X.columns.get_loc('GKReflexes') + 1])\n",
        "\n",
        "# 훈련 세트에 적용한 스케일러를 테스트 세트에도 동일하게 적용한다\n",
        "test.iloc[:, np.r_[:3, test.columns.get_loc('Crossing'):train_X.columns.get_loc('GKReflexes') + 1]] = ss.transform(test.iloc[:, np.r_[:3, test.columns.get_loc('Crossing'):train_X.columns.get_loc('GKReflexes') + 1]])"
      ],
      "metadata": {
        "id": "E3Cs54DB7qYG"
      },
      "execution_count": null,
      "outputs": []
    },
    {
      "cell_type": "code",
      "source": [
        "train_X.shape, train_y.shape, test.shape"
      ],
      "metadata": {
        "id": "ewTHHH0S3HyD"
      },
      "execution_count": null,
      "outputs": []
    },
    {
      "cell_type": "markdown",
      "source": [
        "# 모델 적용\n",
        "\n",
        "## 1. 랜덤 포레스트"
      ],
      "metadata": {
        "id": "VMtWS_Q83EbH"
      }
    },
    {
      "cell_type": "markdown",
      "source": [
        "- HPO : RandomizedSearchCV"
      ],
      "metadata": {
        "id": "mqkv38J68j7I"
      }
    },
    {
      "cell_type": "code",
      "source": [
        "# 하이퍼 파라미터 파라미터 튜닝하고 ㄱ\n",
        "clf = RandomForestClassifier()\n",
        "\n",
        "\n",
        "params_rs = {'max_depth' : list(range(5, 10)),\n",
        "          'n_estimators' : list(range(50, 300)),\n",
        "          'bootstrap' : [True, False],\n",
        "          'max_features' : ['sqrt', None]\n",
        "          }\n",
        "\n",
        "# RandomizedSearch\n",
        "model = RandomizedSearchCV(estimator = clf,\n",
        "                           param_distributions = params_rs,\n",
        "                           n_iter = 30,\n",
        "                           cv = 5,\n",
        "                           n_jobs = -1, \n",
        "                           verbose = 1,\n",
        "                            random_state = 0)\n",
        "\n",
        "model.fit(train_X, train_y)"
      ],
      "metadata": {
        "id": "VBYLFx15LPBz"
      },
      "execution_count": null,
      "outputs": []
    },
    {
      "cell_type": "code",
      "source": [
        "model.best_params_"
      ],
      "metadata": {
        "id": "iyVB2qrb_IPj"
      },
      "execution_count": null,
      "outputs": []
    },
    {
      "cell_type": "markdown",
      "source": [
        "- HPO : BayesSearchCV"
      ],
      "metadata": {
        "id": "aNk05fFp8nl6"
      }
    },
    {
      "cell_type": "code",
      "source": [
        "clf = RandomForestClassifier()\n",
        "\n",
        "params_bs = {'max_depth' : (5, 10),\n",
        "          'n_estimators' : (25, 500),\n",
        "          }\n",
        "\n",
        "# BayesSearch\n",
        "model = BayesSearchCV(estimator = clf,\n",
        "                           search_spaces = params_bs,\n",
        "                           n_iter = 25,\n",
        "                           cv = 5,\n",
        "                           n_jobs = -1, \n",
        "                           verbose = 1,\n",
        "                           random_state = 0)"
      ],
      "metadata": {
        "id": "RnYdOi4w8sST"
      },
      "execution_count": null,
      "outputs": []
    },
    {
      "cell_type": "code",
      "source": [
        "model.fit(train_X, train_y)"
      ],
      "metadata": {
        "id": "7conTaOM8tm_"
      },
      "execution_count": null,
      "outputs": []
    },
    {
      "cell_type": "code",
      "source": [
        "# model.cv_results_['params'], model.cv_results_['mean_test_score'] # 결과값 시각화\n",
        "print(model.best_params_)\n",
        "print(model.best_score_)"
      ],
      "metadata": {
        "id": "J8zwbheAZl78"
      },
      "execution_count": null,
      "outputs": []
    },
    {
      "cell_type": "code",
      "source": [
        "model.best_params_"
      ],
      "metadata": {
        "id": "kqOwNQ3lAfxp"
      },
      "execution_count": null,
      "outputs": []
    },
    {
      "cell_type": "code",
      "source": [
        "pred = model.predict(test)\n",
        "pred"
      ],
      "metadata": {
        "id": "Bgl6p7UIaa4l"
      },
      "execution_count": null,
      "outputs": []
    },
    {
      "cell_type": "code",
      "source": [
        "submit = pd.DataFrame({'Prospect' : pred}, index = test.index)\n",
        "submit\n",
        "submit.to_csv('RF_Bayes_GetPosition3_221119.csv')"
      ],
      "metadata": {
        "id": "KTaQNPfAeruX"
      },
      "execution_count": null,
      "outputs": []
    },
    {
      "cell_type": "code",
      "source": [
        "# Ordinial Encoder를 써본다든가\n",
        "# Age Height Weight를 써본다든가\n",
        "# 뭐 등등이 있겠쥬?"
      ],
      "metadata": {
        "id": "32Tod_Gvcgpf"
      },
      "execution_count": null,
      "outputs": []
    },
    {
      "cell_type": "markdown",
      "source": [
        "## 2. DNN\n",
        "- 가장 간단한 타입을 써보겠읍니다"
      ],
      "metadata": {
        "id": "U4BGfqqogdMp"
      }
    },
    {
      "cell_type": "code",
      "source": [
        "import tensorflow as tf \n",
        "from tensorflow.keras.callbacks import EarlyStopping, ReduceLROnPlateau\n",
        "from sklearn.model_selection import train_test_split\n",
        "\n",
        "sub_X, val_X, sub_y, val_y = train_test_split(train_X, train_y, test_size = 0.2, random_state = 0, stratify = train_y)\n",
        "sub_X.shape, sub_y.shape, val_X.shape, val_y.shape"
      ],
      "metadata": {
        "id": "5rRI0yTzdRKM"
      },
      "execution_count": null,
      "outputs": []
    },
    {
      "cell_type": "code",
      "source": [
        "model = tf.keras.Sequential(\n",
        "                            [tf.keras.layers.Dense(128 , \n",
        "                                                  #  activation = 'relu',\n",
        "                                                  #  input_dim = 37\n",
        "                                                   ),\n",
        "                             tf.keras.layers.LeakyReLU(alpha = 0.1),\n",
        "\n",
        "                             tf.keras.layers.Dense(64, \n",
        "                                                  #  activation = 'relu'\n",
        "                                                   ), \n",
        "                             tf.keras.layers.LeakyReLU(alpha = 0.1),\n",
        "\n",
        "                             tf.keras.layers.Dense(32, \n",
        "                                                  #  activation = 'relu'\n",
        "                                                   ),\n",
        "                             tf.keras.layers.LeakyReLU(alpha = 0.1),\n",
        "                             \n",
        "                             tf.keras.layers.Dense(1, activation = 'sigmoid')]\n",
        "                            )\n",
        "\n",
        "model.compile(optimizer = 'adam', \n",
        "              loss = 'binary_crossentropy',\n",
        "              # loss = 'mse',\n",
        "              metrics = ['Accuracy'])\n",
        "\n",
        "reduce_lr = ReduceLROnPlateau(monitor = 'val_loss',\n",
        "                              factor = 0.25,\n",
        "                              patience = 2,\n",
        "                              min_lr = 0.00005)\n",
        "\n",
        "es = EarlyStopping(monitor = 'val_loss', patience = 5, verbose = 1, restore_best_weights = True)\n",
        "\n",
        "model.fit(sub_X, sub_y,\n",
        "          epochs = 30,\n",
        "          batch_size = 64,\n",
        "          validation_data = (val_X, val_y),\n",
        "          callbacks = [reduce_lr, es])"
      ],
      "metadata": {
        "id": "nyOvsrFrUC3-"
      },
      "execution_count": null,
      "outputs": []
    },
    {
      "cell_type": "code",
      "source": [
        "pred = np.round_(model.predict(test)).flatten()"
      ],
      "metadata": {
        "id": "VxE-NQ9BW1ky"
      },
      "execution_count": null,
      "outputs": []
    },
    {
      "cell_type": "code",
      "source": [
        "submit = pd.DataFrame({'Prospect' : pred}, index = test.index)\n",
        "submit\n",
        "submit.to_csv('submit_LabelEncoder_NN.csv')"
      ],
      "metadata": {
        "id": "bl_1yZS2XnO9"
      },
      "execution_count": null,
      "outputs": []
    },
    {
      "cell_type": "code",
      "source": [],
      "metadata": {
        "id": "mBxDygPE_5KB"
      },
      "execution_count": null,
      "outputs": []
    }
  ]
}