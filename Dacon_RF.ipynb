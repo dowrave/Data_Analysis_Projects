{
  "nbformat": 4,
  "nbformat_minor": 0,
  "metadata": {
    "colab": {
      "private_outputs": true,
      "provenance": [],
      "authorship_tag": "ABX9TyNbEdaSWuGR4dqh9IHgTv4M",
      "include_colab_link": true
    },
    "kernelspec": {
      "name": "python3",
      "display_name": "Python 3"
    },
    "language_info": {
      "name": "python"
    }
  },
  "cells": [
    {
      "cell_type": "markdown",
      "metadata": {
        "id": "view-in-github",
        "colab_type": "text"
      },
      "source": [
        "<a href=\"https://colab.research.google.com/github/dowrave/Data_Analysis_Projects/blob/main/Dacon_RF.ipynb\" target=\"_parent\"><img src=\"https://colab.research.google.com/assets/colab-badge.svg\" alt=\"Open In Colab\"/></a>"
      ]
    },
    {
      "cell_type": "code",
      "execution_count": null,
      "metadata": {
        "id": "eHveP5s3HXEr"
      },
      "outputs": [],
      "source": [
        "from google.colab import drive\n",
        "drive.mount('/content/drive')"
      ]
    },
    {
      "cell_type": "code",
      "source": [
        "import pandas as pd\n",
        "from pandas import CategoricalDtype\n",
        "import numpy as np \n",
        "import matplotlib.pyplot as plt\n",
        "import seaborn as sns\n",
        "from sklearn.preprocessing import StandardScaler\n",
        "from sklearn.model_selection import train_test_split, StratifiedKFold, cross_val_score, RandomizedSearchCV\n",
        "from sklearn.ensemble import RandomForestClassifier\n",
        "from sklearn.metrics import f1_score\n",
        "\n",
        "pd.set_option('display.max_columns', None)"
      ],
      "metadata": {
        "id": "lPH0x2y9H2E2"
      },
      "execution_count": null,
      "outputs": []
    },
    {
      "cell_type": "code",
      "source": [
        "train = pd.read_csv('/content/drive/MyDrive/data/train.csv')\n",
        "test = pd.read_csv('/content/drive/MyDrive/data/test.csv')"
      ],
      "metadata": {
        "id": "dxvSBFKAIbWd"
      },
      "execution_count": null,
      "outputs": []
    },
    {
      "cell_type": "code",
      "source": [
        "train.head(2)"
      ],
      "metadata": {
        "id": "9xYQj5fcItnq"
      },
      "execution_count": null,
      "outputs": []
    },
    {
      "cell_type": "code",
      "source": [
        "train.info()"
      ],
      "metadata": {
        "id": "b__-Mh-hIuj0"
      },
      "execution_count": null,
      "outputs": []
    },
    {
      "cell_type": "code",
      "source": [
        "train.head(4)"
      ],
      "metadata": {
        "id": "0S2MDRqQukmu"
      },
      "execution_count": null,
      "outputs": []
    },
    {
      "cell_type": "markdown",
      "source": [
        "# 데이터 탐색"
      ],
      "metadata": {
        "id": "fx0YcbVC30KL"
      }
    },
    {
      "cell_type": "code",
      "source": [
        "train.hist(bins = 20, figsize = (20, 20))"
      ],
      "metadata": {
        "id": "UzXWi2g0om72"
      },
      "execution_count": null,
      "outputs": []
    },
    {
      "cell_type": "markdown",
      "source": [
        "### 질적 데이터"
      ],
      "metadata": {
        "id": "w6FPe1IoRZiW"
      }
    },
    {
      "cell_type": "markdown",
      "source": [
        "- 전체 데이터 중 유망주의 비율 : $0.361$"
      ],
      "metadata": {
        "id": "jW4o93VPRjgm"
      }
    },
    {
      "cell_type": "code",
      "source": [
        "train['Prospect'].sum() / train['Prospect'].count()"
      ],
      "metadata": {
        "id": "osqZY-jfRnIR"
      },
      "execution_count": null,
      "outputs": []
    },
    {
      "cell_type": "markdown",
      "source": [
        "#### 1. `PreferredFoot, WorkRate`\n",
        "선요약 )  \n",
        "- 특히 `WorkRate`의 경우는 높을수록 좋을 것이라는 생각을 하고 접근했지만, 가장 좋은 수치는 `Medium, Medium`에서 나왔음\n",
        "- `PreferredFoot`의 경우 또한 `Left`에서 희소성이 있을 거라 생각하고 접근했지만, 그렇지는 않았음\n",
        "- 둘 다 특별히 고칠 요소는 없는 것으로 보임\n"
      ],
      "metadata": {
        "id": "eDxvFMVgCfX2"
      }
    },
    {
      "cell_type": "code",
      "source": [
        "fig, ax = plt.subplots(1, 2, figsize = (10, 5))\n",
        "\n",
        "fig.suptitle(\"Preferred Foot : Total vs Prospect\")\n",
        "(train['PreferredFoot'].value_counts()\n",
        "                        .to_frame()\n",
        "                        .T\n",
        "                        .plot(kind = 'bar', \n",
        "                              stacked = True, \n",
        "                              rot = 0,\n",
        "                              ax = ax[0])\n",
        "                        )\n",
        "ax[0].legend().set_visible(False)\n",
        "\n",
        "(train[train['Prospect'] == 1]['PreferredFoot'].value_counts()\n",
        "                                                .to_frame()\n",
        "                                                .T\n",
        "                                                .plot(kind = 'bar', \n",
        "                                                      stacked = True, \n",
        "                                                      rot = 0,\n",
        "                                                      ax = ax[1],\n",
        "))\n",
        "\n",
        "ax[1].set_ylim(ax[0].get_ylim())"
      ],
      "metadata": {
        "id": "jCBAihqxZZjZ"
      },
      "execution_count": null,
      "outputs": []
    },
    {
      "cell_type": "code",
      "source": [
        "# 위 그래프는 이렇게 그려도 되지 않을까?\n",
        "sns.set_style('whitegrid')\n",
        "plt.figure(figsize = (10, 10))\n",
        "grid = sns.FacetGrid(data = train, col = 'Prospect')\n",
        "grid.map(sns.countplot, 'PreferredFoot', palette= 'tab10')"
      ],
      "metadata": {
        "id": "1BMMWbTz4ejf"
      },
      "execution_count": null,
      "outputs": []
    },
    {
      "cell_type": "code",
      "source": [
        "# 각 발 전체 인원 중 유망주 비율\n",
        "print(train[(train['PreferredFoot'] == 'Left')\n",
        "      & (train['Prospect'] == 1)]['ID'].count() / train[train['PreferredFoot'] == 'Left']['ID'].count(),\n",
        "      train[(train['PreferredFoot'] == 'Right')\n",
        "      & (train['Prospect'] == 1)]['ID'].count() / train[train['PreferredFoot'] == 'Right']['ID'].count(),\n",
        ")\n",
        "# 전체 인원 중 각 발의 비율\n",
        "print(train[train['PreferredFoot'] == 'Left']['ID'].count() / train['ID'].count(),\n",
        "      train[train['PreferredFoot'] == 'Right']['ID'].count() / train['ID'].count(),\n",
        ")\n",
        "# 유망주 전체 인원 중 각 발의 비율\n",
        "print(train[(train['PreferredFoot'] == 'Left')\n",
        "      & (train['Prospect'] == 1)]['ID'].count() / train[train['Prospect'] == 1]['ID'].count(),\n",
        "      train[(train['PreferredFoot'] == 'Right')\n",
        "      & (train['Prospect'] == 1)]['ID'].count() / train[train['Prospect'] == 1]['ID'].count(),\n",
        ")"
      ],
      "metadata": {
        "id": "bSmb1PLma_UO"
      },
      "execution_count": null,
      "outputs": []
    },
    {
      "cell_type": "markdown",
      "source": [
        "1. 각 발에 대해 전체 인원 중 유망주 비율\n",
        "- 왼발 : $0.33$\n",
        "- 오른발 : $0.37$\n",
        "\n",
        "2. 전체 인원과 각 발의 비율\n",
        "- 왼발 : $0.24$\n",
        "- 오른발 : $0.75$\n",
        "\n",
        "3. 유망주 전체 인원과 각 발의 비율\n",
        "- 왼발 : $0.22$\n",
        "- 오른발 : $0.78$"
      ],
      "metadata": {
        "id": "9X--sPjqYi5j"
      }
    },
    {
      "cell_type": "code",
      "source": [
        "fig, ax = plt.subplots(2, 2, figsize = (10, 10))\n",
        "\n",
        "for i, val in enumerate(['AttackingWorkRate', 'DefensiveWorkRate']):\n",
        "  if i == 0:\n",
        "    color = np.array(sns.color_palette('OrRd'))[[1, 3, 5], :]\n",
        "  elif i == 1:\n",
        "    color = np.array(sns.color_palette('Blues'))[[1, 3, 5], :]\n",
        "  \n",
        "  (train[val].value_counts()[['Low', 'Medium', 'High']]\n",
        "                          .to_frame()\n",
        "                          .T\n",
        "                          .plot(kind = 'bar', \n",
        "                                stacked = True, \n",
        "                                rot = 0,\n",
        "                                ax = ax[i][0],\n",
        "                                color = color)\n",
        "                          )\n",
        "  ax[i][0].legend().set_visible(False)\n",
        "\n",
        "  (train[train['Prospect'] == 1][val].value_counts()[['Low', 'Medium', 'High']]\n",
        "                                                  .to_frame()\n",
        "                                                  .T\n",
        "                                                  .plot(kind = 'bar', \n",
        "                                                        stacked = True, \n",
        "                                                        rot = 0,\n",
        "                                                        ax = ax[i][1],\n",
        "                                                        color = color\n",
        "  ))\n",
        "\n",
        "  ax[i][1].set_ylim(ax[i][0].get_ylim())"
      ],
      "metadata": {
        "id": "_RHPIXCSZZl0"
      },
      "execution_count": null,
      "outputs": []
    },
    {
      "cell_type": "code",
      "source": [
        "# 위 사항은 수치적으로 보고 싶음 : WorkRate에는 총 9가지 유형이 있는데, 이에 따른 생존율을 비교해보자\n",
        "temp = (train[['ID', 'AttackingWorkRate', 'DefensiveWorkRate', 'Prospect']]\n",
        "                                                              .groupby(['AttackingWorkRate', 'DefensiveWorkRate', 'Prospect'])['ID']\n",
        "                                                              .count()\n",
        "                                                              .to_frame()\n",
        "                                                              .reset_index().rename(columns = {\"ID\" : 'counts'})\n",
        ")\n",
        "temp.head(2)"
      ],
      "metadata": {
        "id": "qFYNRGtOZZoI"
      },
      "execution_count": null,
      "outputs": []
    },
    {
      "cell_type": "code",
      "source": [
        "sns.catplot(data = temp, \n",
        "            x = 'AttackingWorkRate', \n",
        "            y = 'counts', \n",
        "            hue = 'DefensiveWorkRate', \n",
        "            col = 'Prospect', \n",
        "            kind = 'bar', \n",
        "            order = ['Low', 'Medium', 'High'], \n",
        "            hue_order = ['Low', 'Medium', 'High'],\n",
        "            ax = ax)\n",
        "plt.suptitle(\"ATT / DEF WorkRate and The Num of Prospect\", y = 1.05, fontsize = 15)\n",
        "plt.tight_layout()"
      ],
      "metadata": {
        "id": "_02WlcCVD-Ja"
      },
      "execution_count": null,
      "outputs": []
    },
    {
      "cell_type": "code",
      "source": [
        "temp['rates'] = temp['counts'] / temp.groupby(['AttackingWorkRate', 'DefensiveWorkRate'])['counts'].transform(\"sum\")\n",
        "temp_hm = temp[temp['Prospect'] == 1][:]\n",
        "temp_hm = temp_hm.pivot(index = 'AttackingWorkRate', columns = 'DefensiveWorkRate', values = 'rates').loc[['High', 'Medium', 'Low'], ['Low', 'Medium', 'High']]"
      ],
      "metadata": {
        "id": "6yz2UJUyFE2i"
      },
      "execution_count": null,
      "outputs": []
    },
    {
      "cell_type": "code",
      "source": [
        "plt.figure(figsize = (7, 7))\n",
        "sns.heatmap(data = temp_hm, annot = True, fmt = '.3f', cmap = 'Blues', vmin = 0, vmax = 1)\n",
        "plt.title(\"Att / Def WorkRate and Prospect Rate\")"
      ],
      "metadata": {
        "id": "wYaRxqgNJlse"
      },
      "execution_count": null,
      "outputs": []
    },
    {
      "cell_type": "markdown",
      "source": [
        "- `Low, Low`에 있는 요소는 샘플이 1개니까 크게 고려할 요소는 아님\n",
        "- 애초에 예상한 건 `오른쪽 위로 갈수록 활동량이 좋으니 Prospect 비율이 높을 것이다` 였는데, 그렇지는 않은 것으로 나타남"
      ],
      "metadata": {
        "id": "NLrje1WXL-80"
      }
    },
    {
      "cell_type": "markdown",
      "source": [
        "#### 2. `Position`"
      ],
      "metadata": {
        "id": "8XW4kNDTbFsL"
      }
    },
    {
      "cell_type": "code",
      "source": [
        "train['Position'].unique()"
      ],
      "metadata": {
        "id": "IZ5vf0ZQ-dad"
      },
      "execution_count": null,
      "outputs": []
    },
    {
      "cell_type": "code",
      "source": [
        "# 먼저 시각화 하고 시작함\n",
        "fig, ax = plt.subplots(figsize = (10, 5))\n",
        "position_order = ['GK', 'LB', 'CB', 'RB', 'LWB', 'CDM', 'RWB', 'LM', 'CM', 'RM', 'CAM', 'LW', 'CF', 'RW', 'ST']\n",
        "(train[['Position', 'Prospect']].value_counts()\n",
        "                                .to_frame()\n",
        "                                .reset_index()\n",
        "                                .rename(columns = {0 : 'counts'})\n",
        "                                .pivot(index = 'Position', \n",
        "                                       columns = 'Prospect', \n",
        "                                       values = 'counts')\n",
        "                                .loc[position_order]\n",
        "                                .plot(kind = 'bar', stacked = True, ax = ax)\n",
        ")\n",
        "plt.title(\"Position and Prospect\")\n",
        "plt.gca().set_axisbelow(True)\n",
        "plt.grid(True, axis = 'y')"
      ],
      "metadata": {
        "id": "SNshEP9VD-Ll"
      },
      "execution_count": null,
      "outputs": []
    },
    {
      "cell_type": "markdown",
      "source": [
        "- CAM, CB, ST, GK, RM 순으로 데이터의 양이 많음\n",
        "- "
      ],
      "metadata": {
        "id": "fOsRibxUgCSJ"
      }
    },
    {
      "cell_type": "markdown",
      "source": [
        "### 양적 데이터\n",
        "1. "
      ],
      "metadata": {
        "id": "t7IDLaVrgLr2"
      }
    },
    {
      "cell_type": "code",
      "source": [
        "plt.figure(figsize = (7, 7))\n",
        "\n",
        "corr = train.corr()\n",
        "mask = np.zeros_like(corr, dtype = bool)\n",
        "mask[np.triu_indices_from(mask)] = True # 원래 행렬의 윗부분 절반을 1로 만드는 것\n",
        "\n",
        "sns.heatmap(data = corr, cmap = 'coolwarm', mask = mask) "
      ],
      "metadata": {
        "id": "T0PCDG4JD-QQ"
      },
      "execution_count": null,
      "outputs": []
    },
    {
      "cell_type": "markdown",
      "source": [
        "- 위 히트맵에서, 일부 필요없는 부분을 제외하고 시각화 함\n",
        "- 보고 싶은 건 2가지임\n",
        "  1. 각종 스탯 간의 관계\n",
        "  2. 각종 스탯과 `Position Rating`의 관계\n",
        "- 또한, "
      ],
      "metadata": {
        "id": "1cu8ZUo9h5Mq"
      }
    },
    {
      "cell_type": "code",
      "source": [
        "border = train.corr().columns.get_loc('GKReflexes') + 1 # 47"
      ],
      "metadata": {
        "id": "9BeNTR0pkaNG"
      },
      "execution_count": null,
      "outputs": []
    },
    {
      "cell_type": "code",
      "source": [
        "# 1. 스탯 간의 관계 보기\n",
        "\n",
        "# 근데 그냥 0 이상으로 두는게 낫지 않을까 싶으요?\n",
        "# 요건 솔직히 어떻게 해놔야 될지 모르겠다. 다음에 보도록 하자.\n",
        "corr1 = train.corr().iloc[:border, :border]\n",
        "mask = np.zeros_like(corr1, dtype = bool)\n",
        "mask[np.triu_indices_from(mask)] = True # 원래 행렬의 윗부분 절반을 1로 만드는 것\n",
        "\n",
        "\n",
        "plt.figure(figsize = (12, 12))\n",
        "sns.heatmap(data = corr1, \n",
        "            cmap = 'PRGn', \n",
        "            mask = (mask \n",
        "                   # | np.where(corr1 > 0.5, 0, 1)\n",
        "                    ), \n",
        "            vmin = -1, \n",
        "            vmax = 1) "
      ],
      "metadata": {
        "id": "9pIih2GPD-S0"
      },
      "execution_count": null,
      "outputs": []
    },
    {
      "cell_type": "markdown",
      "source": [
        "- 전체적으로 봤을 때, 모든 값을 모델에 포함한다면 중복되는 영역이 생김\n",
        "  - 예를 들면 ~~Total에 들어가는 값에는 중복이 있을 것\n",
        "  - 또한 `Rating`에 대한 수치도 중복이 있을 것이다"
      ],
      "metadata": {
        "id": "uZL6BXLXA_o4"
      }
    },
    {
      "cell_type": "code",
      "source": [
        "corr2 = train.corr().iloc[:border, border:]\n",
        "# mask = np.zeros_like(corr2, dtype = bool)\n",
        "# mask[np.triu_indices_from(mask)] = True # 원래 행렬의 윗부분 절반을 1로 만드는 것\n",
        "\n",
        "plt.figure(figsize = (12, 12))\n",
        "sns.heatmap(data = corr2, \n",
        "            cmap = 'PRGn', \n",
        "            # mask = np.where(corr2 > 0.3, 0, 1),\n",
        "            vmin = -1, \n",
        "            vmax = 1) "
      ],
      "metadata": {
        "id": "JopXrXzojEY2"
      },
      "execution_count": null,
      "outputs": []
    },
    {
      "cell_type": "markdown",
      "source": [
        "- 이렇게 놓고 봤을 때 명백히 나뉘는 구역이 3가지가 있음\n",
        "  - `LM, CM, RM` 영역 및 이보다 공격적인 위치\n",
        "  - `LWB, CDM, RWB` 영역 ~ 수비수 영역까지 수비적인 위치\n",
        "  - `GK`\n",
        "- 이렇게 나눠지는 영역에서도 `CM`이나 `CDM`은 다른 경향을 보임\n"
      ],
      "metadata": {
        "id": "tB-rye0dj_4H"
      }
    },
    {
      "cell_type": "code",
      "source": [
        "foot_order = ['Left', 'Right']\n",
        "work_rate_order = ['Low', 'Medium', 'High']\n",
        "\n",
        "def column_label_order(df, col, order_lst):\n",
        "\n",
        "  LE = LabelEncoder()\n",
        "  LE.fit(df[col])\n",
        "  LE.classes_ = np.array(order_lst)\n",
        "  df[col] = LE.transform(df[col])\n",
        "\n",
        "\n",
        "column_label_order(train, 'PreferredFoot', foot_order)\n",
        "column_label_order(train, 'AttackingWorkRate', work_rate_order)\n",
        "column_label_order(train, 'DefensiveWorkRate', work_rate_order)"
      ],
      "metadata": {
        "id": "NAgRckIig1SU"
      },
      "execution_count": null,
      "outputs": []
    },
    {
      "cell_type": "code",
      "source": [
        "train.columns"
      ],
      "metadata": {
        "id": "moN6pCGtg7ZR"
      },
      "execution_count": null,
      "outputs": []
    },
    {
      "cell_type": "code",
      "source": [
        "train_ab = train.iloc[:, np.r_[0: train.columns.get_loc('DefensiveWorkRate') + 1, train.columns.get_loc('Crossing') : train.columns.get_loc('GKReflexes') + 1, -1]]\n",
        "train_ab.head(2)"
      ],
      "metadata": {
        "id": "rfBuMOmkHvXq"
      },
      "execution_count": null,
      "outputs": []
    },
    {
      "cell_type": "code",
      "source": [
        "train_ab_avg = (train_ab.iloc[:, 1:].groupby(['Position', 'Prospect'])\n",
        "                                    .mean()\n",
        "                                    .reset_index()\n",
        "                                    .set_index(['Position', 'Prospect'])\n",
        "                                    .T\n",
        "                )\n",
        "train_ab_avg"
      ],
      "metadata": {
        "id": "nvs4fJ9lLtdC"
      },
      "execution_count": null,
      "outputs": []
    },
    {
      "cell_type": "markdown",
      "source": [
        "- 위 표를 보면 가장 의외인 지점은, 같은 포지션에서도 `Prospect = 0`의 스탯이 더 높은 수치를 나타내는 곳이 많다.\n",
        "- `Age`는 `Prospect`를 결정하는 중요한 요인이라고 생각됨."
      ],
      "metadata": {
        "id": "mUdPoM5Uh88x"
      }
    },
    {
      "cell_type": "code",
      "source": [
        "sns.countplot(data = train, x = 'Age', hue = 'Prospect')"
      ],
      "metadata": {
        "id": "wko3ZjCDjK8O"
      },
      "execution_count": null,
      "outputs": []
    },
    {
      "cell_type": "markdown",
      "source": [
        "결론)\n",
        "1. `Position`을 분리할 건데,\n",
        "  1. `Left, Center, Right, GK`라는 횡적인 위치와\n",
        "  2. `ATT, MID, DEF, GK`라는 종적인 위치 2가지로 나누겠음\n",
        "\n",
        "  - 이렇게 할 경우 CM과 CDM의 차이가 모호해진다는 문제점이 생길 수는 있는데, 일단 그렇게 진행하겠음\n",
        "\n",
        "2. 중복된 인풋을 제거하기 위해, 모델에 활용하는 수치는 `~~Total` 값과 `~~Rating`을 제외한 모든 값으로 하겠음"
      ],
      "metadata": {
        "id": "gRu9KmHnGVKI"
      }
    },
    {
      "cell_type": "code",
      "source": [
        "train['Position'].unique()"
      ],
      "metadata": {
        "id": "-Nw0M6sL9WLx"
      },
      "execution_count": null,
      "outputs": []
    },
    {
      "cell_type": "code",
      "source": [
        "def change_position(df, col_name):\n",
        "  if df[col_name] == 'CB':\n",
        "    df['hor_pos'] = 'center'\n",
        "    df['ver_pos'] = 'DEF'\n",
        "  elif df[col_name] == 'LB':\n",
        "    df['hor_pos'] = 'left'\n",
        "    df['ver_pos'] = 'DEF'\n",
        "  elif df[col_name] == 'RB':\n",
        "    df['hor_pos'] = 'right'\n",
        "    df['ver_pos'] = 'DEF'\n",
        "  if df[col_name] == 'GK':\n",
        "    df['hor_pos'] = 'GK'\n",
        "    df['ver_pos'] = 'GK'\n",
        "  if df[col_name] == 'LWB':\n",
        "    df['hor_pos'] = 'center'\n",
        "    df['ver_pos'] = 'DEF'\n",
        "  if df[col_name] == 'CB':\n",
        "    df['hor_pos'] = 'center'\n",
        "    df['ver_pos'] = 'DEF'"
      ],
      "metadata": {
        "id": "nAK0TXuw9WJZ"
      },
      "execution_count": null,
      "outputs": []
    },
    {
      "cell_type": "code",
      "source": [],
      "metadata": {
        "id": "fftd9Yqk9WHK"
      },
      "execution_count": null,
      "outputs": []
    },
    {
      "cell_type": "code",
      "source": [],
      "metadata": {
        "id": "5A6_LzBH9WD4"
      },
      "execution_count": null,
      "outputs": []
    },
    {
      "cell_type": "code",
      "source": [],
      "metadata": {
        "id": "7bzmQgd19WBS"
      },
      "execution_count": null,
      "outputs": []
    },
    {
      "cell_type": "code",
      "source": [],
      "metadata": {
        "id": "1eDRPTMS9V9q"
      },
      "execution_count": null,
      "outputs": []
    },
    {
      "cell_type": "code",
      "source": [],
      "metadata": {
        "id": "MROalmCw9V1Y"
      },
      "execution_count": null,
      "outputs": []
    },
    {
      "cell_type": "markdown",
      "source": [
        "# 전처리\n",
        "- 나중에 테스트 세트에도 적용해야 하니까 애껴둡시다."
      ],
      "metadata": {
        "id": "LCPaWv1K3vs-"
      }
    },
    {
      "cell_type": "code",
      "source": [
        "# 이거는 모델에 넣기 전에 진행하면 됨 - 먼저 나눠버리면 X축이 뭘 의미하는지 모르게 됨\n",
        "\n",
        "# foot_order = ['Left', 'Right']\n",
        "# work_rate_order = ['Low', 'Medium', 'High']\n",
        "# position_order = ['GK', 'LB', 'CB', 'RB', 'LWB', 'CDM', 'RWB', 'LM', 'CM', 'RM', 'CAM', 'LW', 'CF', 'RW', 'ST']\n",
        "\n",
        "# def column_label_order(df, col, order_lst):\n",
        "\n",
        "#   LE = LabelEncoder()\n",
        "#   LE.fit(df[col])\n",
        "#   LE.classes_ = np.array(order_lst)\n",
        "#   df[col] = LE.transform(df[col])\n",
        "\n",
        "\n",
        "# column_label_order(train, 'PreferredFoot', foot_order)\n",
        "# column_label_order(train, 'AttackingWorkRate', work_rate_order)\n",
        "# column_label_order(train, 'DefensiveWorkRate', work_rate_order)\n",
        "# column_label_order(train, 'Position', position_order)\n"
      ],
      "metadata": {
        "id": "vzrlkaJdLH5K"
      },
      "execution_count": null,
      "outputs": []
    },
    {
      "cell_type": "code",
      "source": [
        "test.columns"
      ],
      "metadata": {
        "id": "qdWMJ7w8aup1"
      },
      "execution_count": null,
      "outputs": []
    },
    {
      "cell_type": "markdown",
      "source": [
        "#### 트리 모델을 쓰겠다면 OrdinalEncoder도 고려해보자\n",
        "- 원핫인코딩은 트리 모델에서 그렇게 유용하지 않은 지표일 수 있다\n",
        "  - 원핫인코딩 특성이 선택되었을 때, 차원은 증가하는데, 분류 기준으로서의 가치가 낮아지기 떄문임"
      ],
      "metadata": {
        "id": "35XXN9PWhzrB"
      }
    },
    {
      "cell_type": "code",
      "source": [
        "# 범주형 데이터들 원핫인코딩\n",
        "train = pd.read_csv('/content/drive/MyDrive/data/train.csv', index_col = 'ID')\n",
        "train_X = train.iloc[:, np.r_[:3, train.columns.get_loc('Crossing'):train.columns.get_loc('GKReflexes') + 1]]\n",
        "train_y = train['Prospect']\n",
        "\n",
        "\n",
        "for i in ['PreferredFoot', 'AttackingWorkRate', 'DefensiveWorkRate', 'Position']:\n",
        "  onehot = pd.get_dummies(train[i], \n",
        "                #  drop_first = True,\n",
        "                prefix = i\n",
        "                )\n",
        "  train_X = train_X.join(onehot)"
      ],
      "metadata": {
        "id": "BACMKp3V3Fv9"
      },
      "execution_count": null,
      "outputs": []
    },
    {
      "cell_type": "code",
      "source": [
        "# 나머지 모든 데이터를 0과 1 사이로 표준화함\n",
        "ss = StandardScaler()\n",
        "ss.fit(train_X.iloc[:, :train_X.columns.get_loc('GKReflexes') + 1])\n",
        "train_X.iloc[:, :train_X.columns.get_loc('GKReflexes') + 1] = ss.transform(train_X.iloc[:, :train_X.columns.get_loc('GKReflexes') + 1])"
      ],
      "metadata": {
        "id": "gbEg0k8sDvq2"
      },
      "execution_count": null,
      "outputs": []
    },
    {
      "cell_type": "code",
      "source": [
        "# test에 대해서도 동일한 과정을 적용한다\n",
        "test_df = pd.read_csv('/content/drive/MyDrive/data/test.csv', index_col = 'ID')\n",
        "test = test_df.iloc[:, np.r_[:3, train.columns.get_loc('Crossing'):train.columns.get_loc('GKReflexes') + 1]]\n",
        "\n",
        "for i in ['PreferredFoot', 'AttackingWorkRate', 'DefensiveWorkRate', 'Position']:\n",
        "  onehot = pd.get_dummies(test_df[i], \n",
        "                #  drop_first = True,\n",
        "                prefix = i\n",
        "                )\n",
        "  test = test.join(onehot)\n",
        "\n",
        "# 훈련 세트에 적용한 스케일러를 테스트 세트에도 동일하게 적용한다\n",
        "test.iloc[:, :test.columns.get_loc('GKReflexes') + 1] = ss.transform(test.iloc[:, :test.columns.get_loc('GKReflexes') + 1])\n",
        "test"
      ],
      "metadata": {
        "id": "cxc9GYq9bYcy"
      },
      "execution_count": null,
      "outputs": []
    },
    {
      "cell_type": "markdown",
      "source": [
        "# 모델 적용\n",
        "\n",
        "## 1. 랜덤 포레스트"
      ],
      "metadata": {
        "id": "VMtWS_Q83EbH"
      }
    },
    {
      "cell_type": "code",
      "source": [
        "# sub_X, val_X, sub_y, val_y = train_test_split(train_X, train_y, test_size = 0.25, random_state = 0, stratify = train_y)"
      ],
      "metadata": {
        "id": "KAOZU5hm3FQi"
      },
      "execution_count": null,
      "outputs": []
    },
    {
      "cell_type": "code",
      "source": [
        "# clf = RandomForestClassifier(n_estimators = 100, max_depth = 5, random_state = 0, bootstrap = True,oob_score = True)\n",
        "# clf.fit(sub_X, sub_y)\n",
        "# pred_y = clf.predict(sub_X)\n",
        "# print(\"Train Set Accuracy : \", clf.score(sub_X, sub_y))\n",
        "# print(\"f1 score : \", f1_score(sub_y, pred_y))"
      ],
      "metadata": {
        "id": "FZb7q3HLIcsA"
      },
      "execution_count": null,
      "outputs": []
    },
    {
      "cell_type": "code",
      "source": [
        "# print(\"Validation Set Accuracy : \", clf.score(val_X, val_y))\n",
        "# print(\"f1_score() : \" , f1_score(val_y, clf.predict(val_X)))"
      ],
      "metadata": {
        "id": "cvQUdKKMN1B_"
      },
      "execution_count": null,
      "outputs": []
    },
    {
      "cell_type": "code",
      "source": [
        "# # 교차검증을 보자\n",
        "# skf = StratifiedKFold(n_splits = 10, shuffle  = True, random_state = 0)\n",
        "# skf.get_n_splits(train_X, train_y) \n",
        "\n",
        "# clf = RandomForestClassifier(n_estimators = 100, max_depth = 5, bootstrap = True, oob_score = True, random_state = 0)\n",
        "# cross_val_score(clf, train_X, train_y, cv = skf, scoring = 'accuracy').mean()"
      ],
      "metadata": {
        "id": "nGhJ6M13KHoB"
      },
      "execution_count": null,
      "outputs": []
    },
    {
      "cell_type": "code",
      "source": [
        "# 하이퍼 파라미터 튜닝도 해보자\n",
        "params = {'max_depth' : list(range(5, 10)),\n",
        "          'n_estimators' : list(range(50, 1000)),\n",
        "          'bootstrap' : [True, False],\n",
        "          'max_features' : ['sqrt', None]\n",
        "          }\n",
        "clf = RandomForestClassifier(random_state = 0)\n",
        "\n",
        "model = RandomizedSearchCV(estimator = clf,\n",
        "                           param_distributions = params,\n",
        "                           n_iter = 30,\n",
        "                           cv = 5,\n",
        "                           n_jobs = -1, \n",
        "                           verbose = 1)\n",
        "\n",
        "model.fit(train_X, train_y)"
      ],
      "metadata": {
        "id": "VBYLFx15LPBz"
      },
      "execution_count": null,
      "outputs": []
    },
    {
      "cell_type": "code",
      "source": [
        "model.best_params_"
      ],
      "metadata": {
        "id": "J8zwbheAZl78"
      },
      "execution_count": null,
      "outputs": []
    },
    {
      "cell_type": "code",
      "source": [
        "model.score(train_X, train_y)"
      ],
      "metadata": {
        "id": "4PrW4n6xaUOY"
      },
      "execution_count": null,
      "outputs": []
    },
    {
      "cell_type": "code",
      "source": [
        "pred = model.predict(test)\n",
        "pred"
      ],
      "metadata": {
        "id": "Bgl6p7UIaa4l"
      },
      "execution_count": null,
      "outputs": []
    },
    {
      "cell_type": "code",
      "source": [
        "submit = pd.DataFrame({'Prospect' : pred}, index = test.index)\n",
        "submit\n",
        "submit.to_csv('submit_RF2.csv')"
      ],
      "metadata": {
        "id": "KTaQNPfAeruX"
      },
      "execution_count": null,
      "outputs": []
    },
    {
      "cell_type": "code",
      "source": [
        "# Ordinial Encoder를 써본다든가\n",
        "# Age Height Weight를 써본다든가\n",
        "# 뭐 등등이 있겠쥬?"
      ],
      "metadata": {
        "id": "32Tod_Gvcgpf"
      },
      "execution_count": null,
      "outputs": []
    },
    {
      "cell_type": "markdown",
      "source": [
        "## 2. DNN\n",
        "- 가장 간단한 타입을 써보겠읍니다"
      ],
      "metadata": {
        "id": "U4BGfqqogdMp"
      }
    },
    {
      "cell_type": "code",
      "source": [],
      "metadata": {
        "id": "5rRI0yTzdRKM"
      },
      "execution_count": null,
      "outputs": []
    }
  ]
}